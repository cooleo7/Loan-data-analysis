{
 "cells": [
  {
   "cell_type": "markdown",
   "id": "687cdb84",
   "metadata": {},
   "source": [
    "Before you turn this problem in, make sure everything runs as expected. First, **restart the kernel** (in the menubar, select Kernel$\\rightarrow$Restart) and then **run all cells** (in the menubar, select Cell$\\rightarrow$Run All).\n",
    "\n",
    "Make sure you fill in any place that says `YOUR CODE HERE` or \"YOUR ANSWER HERE\", as well as your name and collaborators below:"
   ]
  },
  {
   "cell_type": "code",
   "execution_count": 1,
   "id": "d7fc2c55",
   "metadata": {},
   "outputs": [],
   "source": [
    "STUDENT_ID = \"210163399\""
   ]
  },
  {
   "cell_type": "markdown",
   "id": "d9d1eb4c",
   "metadata": {},
   "source": [
    "---"
   ]
  },
  {
   "cell_type": "markdown",
   "id": "3e893889",
   "metadata": {
    "deletable": false,
    "editable": false,
    "nbgrader": {
     "cell_type": "markdown",
     "checksum": "babe91ff3d6e8a834afd441a59c36d13",
     "grade": false,
     "grade_id": "cell-7186ca423b60543c",
     "locked": true,
     "schema_version": 3,
     "solution": false,
     "task": false
    }
   },
   "source": [
    "MTH765P - Coursework 4 \n",
    "This is a template notebook for the last coursework assignment for MTH765P,\n",
    "Closely follow the instructions in this template in order \n",
    "to complete the assessment and to obtain full marks. Please only\n",
    "modify cells where you are instructed to do so. Failure to comply\n",
    "may result in unexpected errors that can lead to mark deductions.\n",
    "\n",
    "Author: Primoz Skraba\n",
    "\n",
    "\n",
    "As usual, we begin by loading the necessary libraries. You should not \n",
    "import any other libraries."
   ]
  },
  {
   "cell_type": "code",
   "execution_count": 2,
   "id": "6fcdc7a3",
   "metadata": {
    "deletable": false,
    "editable": false,
    "nbgrader": {
     "cell_type": "code",
     "checksum": "c38fd7e76446c4cc348e4735ed6ca79a",
     "grade": false,
     "grade_id": "cell-e0498cc6111d3a30",
     "locked": true,
     "schema_version": 3,
     "solution": false,
     "task": false
    }
   },
   "outputs": [],
   "source": [
    "import sqlite3 \n",
    "import pandas as pd\n",
    "import numpy as np"
   ]
  },
  {
   "cell_type": "markdown",
   "id": "5b456c4d",
   "metadata": {
    "deletable": false,
    "editable": false,
    "nbgrader": {
     "cell_type": "markdown",
     "checksum": "3e971e62d472ebcebc9c0e9ee80e96ab",
     "grade": false,
     "grade_id": "cell-3789e660386ae6ea",
     "locked": true,
     "schema_version": 3,
     "solution": false,
     "task": false
    }
   },
   "source": [
    "## Question 1 (30 points): \n",
    "\n",
    "-----------------------------------------\n",
    "\n",
    "\n",
    "a.)  **(10 points)** Create a sqlite database called **nanoim.db** with the following tables.\n",
    "- All numbers should be integers\n",
    "- IDs should be the primary key\n",
    "- All other entries should be of type TEXT\n",
    "\n",
    "Be sure to close the table once you have created it. \n",
    "\n",
    "<h1><center>Movies</center></h1>\n",
    "\n",
    "|MovieID  | Movie |Actor |Director|\n",
    "|  :--:|  :----: |  :----:| :----:|\n",
    "|1 | Idiocracy| 1 |4|\n",
    "|2 | Predator |2 |1|\n",
    "|3 | The Room |4  |2|\n",
    "|4 | Point Break  |3 | 3 |\n",
    "\n",
    "\n",
    "<h1><center>Actors</center></h1>\n",
    "\n",
    "|ActorID  | Name | Rank|\n",
    "|  :--:|  :----: |  :----:|\n",
    "|1 |Terry Crews|3|\n",
    "|2 | Arnold Schwarzenegger |2|\n",
    "|3 |Keanu Reeves | 1 |\n",
    "|4 |Tommy Wiseau |4|\n",
    "\n",
    "\n",
    "<h1><center>Directors </center></h1>\n",
    "\n",
    "|DirectorID  | Name |\n",
    "|  :--:|  :----: | \n",
    "|1 |John McTiernan| \n",
    "|2 |Tommy Wiseau|\n",
    "|3 |Kathryn Bigelow |\n",
    "|4 |Mike Judge|\n",
    "\n",
    "\n",
    "\n"
   ]
  },
  {
   "cell_type": "code",
   "execution_count": 2,
   "id": "c788644c",
   "metadata": {
    "deletable": false,
    "nbgrader": {
     "cell_type": "code",
     "checksum": "34f7aff5d882e22b5e3c5320a0a2cd1a",
     "grade": false,
     "grade_id": "cell-bc359bcd41563bd4",
     "locked": false,
     "schema_version": 3,
     "solution": true,
     "task": false
    }
   },
   "outputs": [],
   "source": [
    "# YOUR CODE HERE\n",
    "# create nanoim.db database\n",
    "conn = sqlite3.connect('nanoim.db')\n",
    "cursorObject = conn.cursor()\n",
    "\n",
    "# create table Movies which has columns below\n",
    "cursorObject.execute('''CREATE TABLE \n",
    "                        Movies(MovieID integer PRIMARY KEY, \n",
    "                        Movie text, Actor integer, Director integer)''')\n",
    "# create table Actors which has columns below\n",
    "cursorObject.execute('''CREATE TABLE \n",
    "                        Actors(ActorID integer PRIMARY KEY, \n",
    "                        Name text, Rank integer)''')\n",
    "# create table Directors which has columns below\n",
    "cursorObject.execute('''CREATE TABLE \n",
    "                        Directors(DirectorID integer PRIMARY KEY, \n",
    "                        Name text)''')\n",
    "\n",
    "# insert values to the table Movies\n",
    "cursorObject.execute('''INSERT INTO Movies(MovieID,Movie,Actor,Director) VALUES  (1, 'Idiocracy', 1, 4)''')\n",
    "cursorObject.execute('''INSERT INTO Movies(MovieID,Movie,Actor,Director) VALUES  (2, 'Predator', 2, 1)''')\n",
    "cursorObject.execute('''INSERT INTO Movies(MovieID,Movie,Actor,Director) VALUES (3, 'The Room', 4, 2)''')\n",
    "cursorObject.execute('''INSERT INTO Movies(MovieID,Movie,Actor,Director) VALUES (4, 'Point Break', 3, 3)''')\n",
    "# insert values to the table Actors\n",
    "cursorObject.execute('''INSERT INTO Actors(ActorID,Name,Rank) VALUES  (1,'Terry Crews',3)''')\n",
    "cursorObject.execute('''INSERT INTO Actors(ActorID,Name,Rank) VALUES  (2, 'Arnold Schwarzenegger', 2)''')\n",
    "cursorObject.execute('''INSERT INTO Actors(ActorID,Name,Rank) VALUES (3, 'Keanu Reeves', 1)''')\n",
    "cursorObject.execute('''INSERT INTO Actors(ActorID,Name,Rank) VALUES (4, 'Tommy Wiseau', 4)''')\n",
    "# insert values to the table Directors\n",
    "cursorObject.execute('''INSERT INTO Directors(DirectorID,Name) VALUES  (1,'John McTiernan')''')\n",
    "cursorObject.execute('''INSERT INTO Directors(DirectorID,Name) VALUES  (2, 'Tommy Wiseau')''')\n",
    "cursorObject.execute('''INSERT INTO Directors(DirectorID,Name) VALUES (3, 'Kathryn Bigelow')''')\n",
    "cursorObject.execute('''INSERT INTO Directors(DirectorID,Name) VALUES (4, 'Mike Judge')''')\n",
    "# execution above is commited\n",
    "conn.commit()\n",
    "# close the table\n",
    "conn.close()\n",
    "\n",
    "\n",
    "#raise NotImplementedError\n"
   ]
  },
  {
   "cell_type": "code",
   "execution_count": null,
   "id": "8d6dd2fc",
   "metadata": {
    "deletable": false,
    "editable": false,
    "nbgrader": {
     "cell_type": "code",
     "checksum": "27828b5106992dd66af292fbbc6091ad",
     "grade": true,
     "grade_id": "cell-f4c687095074f32a",
     "locked": true,
     "points": 12,
     "schema_version": 3,
     "solution": false,
     "task": false
    }
   },
   "outputs": [],
   "source": []
  },
  {
   "cell_type": "markdown",
   "id": "c569f38a",
   "metadata": {
    "deletable": false,
    "editable": false,
    "nbgrader": {
     "cell_type": "markdown",
     "checksum": "a6c9984b4ded5f401ff7d8384402461f",
     "grade": false,
     "grade_id": "cell-89c1238704719e7d",
     "locked": true,
     "schema_version": 3,
     "solution": false,
     "task": false
    }
   },
   "source": [
    "----------------\n",
    "----------------\n",
    "\n",
    "b) (2 Point) Reconnect with **nanoim.db** in a connection named _conn_\n",
    "\n",
    "----------------"
   ]
  },
  {
   "cell_type": "code",
   "execution_count": 3,
   "id": "b17efd7e",
   "metadata": {
    "deletable": false,
    "nbgrader": {
     "cell_type": "code",
     "checksum": "1413a1fa8ebd3e0be3cc7b19c85735f0",
     "grade": false,
     "grade_id": "cell-0e83b7a5e4b6f4b3",
     "locked": false,
     "schema_version": 3,
     "solution": true,
     "task": false
    }
   },
   "outputs": [],
   "source": [
    "# YOUR CODE HERE\n",
    "conn = sqlite3.connect('nanoim.db')\n",
    "#raise NotImplementedError()"
   ]
  },
  {
   "cell_type": "code",
   "execution_count": null,
   "id": "85974e8b",
   "metadata": {
    "deletable": false,
    "editable": false,
    "nbgrader": {
     "cell_type": "code",
     "checksum": "75ea22737b0fc4941386b926e1de3ccd",
     "grade": true,
     "grade_id": "cell-64c8e3763986c6ff",
     "locked": true,
     "points": 3,
     "schema_version": 3,
     "solution": false,
     "task": false
    }
   },
   "outputs": [],
   "source": []
  },
  {
   "cell_type": "markdown",
   "id": "2f92fb5d",
   "metadata": {
    "deletable": false,
    "editable": false,
    "nbgrader": {
     "cell_type": "markdown",
     "checksum": "7f9895939d351801256cd18481eae0c7",
     "grade": false,
     "grade_id": "cell-a1fdcd3fb52af73b",
     "locked": true,
     "schema_version": 3,
     "solution": false,
     "task": false
    }
   },
   "source": [
    "For the rest of this question you will construct SQL queries and run them.\n",
    "- Make sure to store the result in the variable name given\n",
    "- Make queries so that they would work if the tables are expanded or updated. \n",
    "- Use only sqlite3 functions "
   ]
  },
  {
   "cell_type": "markdown",
   "id": "88152613",
   "metadata": {
    "deletable": false,
    "editable": false,
    "nbgrader": {
     "cell_type": "markdown",
     "checksum": "9ca09f2aec4c5aa3c2f9531179f7ccab",
     "grade": false,
     "grade_id": "cell-13158495b4a99e7f",
     "locked": true,
     "schema_version": 3,
     "solution": false,
     "task": false
    }
   },
   "source": [
    "---------\n",
    "---------\n",
    "\n",
    "c.) **(5 Points)** Create a following query to return names of the actors who are ranked 3rd or higher (**The highest rank is 1**). Store the result in a variable called _actors_\n",
    "\n",
    "---------"
   ]
  },
  {
   "cell_type": "code",
   "execution_count": 4,
   "id": "c8e92255",
   "metadata": {
    "deletable": false,
    "nbgrader": {
     "cell_type": "code",
     "checksum": "2e5cadbda69ab8ae47d1dcf035fef538",
     "grade": false,
     "grade_id": "cell-9702431e37dc0ea6",
     "locked": false,
     "schema_version": 3,
     "solution": true,
     "task": false
    }
   },
   "outputs": [],
   "source": [
    "# YOUR CODE HERE\n",
    "cursorObject = conn.cursor()\n",
    "# execute the query column Rank is less and equal to 3, as 1 and 2 are higher rank than 3\n",
    "cursorObject.execute('''SELECT name FROM Actors\n",
    "                        where Rank <= 3;''',)\n",
    "# assign the result of query above to actor_list \n",
    "actor_list = cursorObject.fetchall()\n",
    "actors = []\n",
    "# iterate all actors in actor_list\n",
    "for actor in actor_list:\n",
    "    # add each actor to list actors\n",
    "    actors.append(actor[0])\n",
    "\n",
    "#raise NotImplementedError()"
   ]
  },
  {
   "cell_type": "code",
   "execution_count": null,
   "id": "2925d5c6",
   "metadata": {
    "deletable": false,
    "editable": false,
    "nbgrader": {
     "cell_type": "code",
     "checksum": "46cc178430a71d9e0cb1b96eccac96ef",
     "grade": true,
     "grade_id": "cell-80a9a838039df5dd",
     "locked": true,
     "points": 3,
     "schema_version": 3,
     "solution": false,
     "task": false
    }
   },
   "outputs": [],
   "source": []
  },
  {
   "cell_type": "markdown",
   "id": "1d84c08a",
   "metadata": {
    "deletable": false,
    "editable": false,
    "nbgrader": {
     "cell_type": "markdown",
     "checksum": "99fa7a89a43cdc0c30dbd938c944c5e9",
     "grade": false,
     "grade_id": "cell-6597e941e04eb8c3",
     "locked": true,
     "schema_version": 3,
     "solution": false,
     "task": false
    }
   },
   "source": [
    "---------\n",
    "---------\n",
    "\n",
    "d.) **(6 Points)** Create a following query to return the name of movies starring Keanu Reeves. Store the result in a variable called _keanu_\n",
    "\n",
    "---------"
   ]
  },
  {
   "cell_type": "code",
   "execution_count": 7,
   "id": "79c2a3f5",
   "metadata": {
    "deletable": false,
    "nbgrader": {
     "cell_type": "code",
     "checksum": "7687576eea21d89bddfcaeafe9f61f03",
     "grade": false,
     "grade_id": "cell-4aaf6d7e34c05102",
     "locked": false,
     "schema_version": 3,
     "solution": true,
     "task": false
    }
   },
   "outputs": [],
   "source": [
    "# YOUR CODE HERE\n",
    "# to return the name of movies starring Keanu Reeves, we have to do inner join table Actors and table Movies\n",
    "cursorObject.execute('''SELECT Movie FROM Movies\n",
    "                        inner join Actors on Actors.ActorID = Movies.Actor  \n",
    "                        where Actors.name = 'Keanu Reeves';''',)\n",
    "name_movie = cursorObject.fetchall()\n",
    "# to get only the name of movie from the result, assign name_movie[0][0], as the type of name_movie is list and the vlaue of 'Point Break' is in tuple\n",
    "keanu = name_movie[0][0]\n",
    "#raise NotImplementedError()"
   ]
  },
  {
   "cell_type": "code",
   "execution_count": null,
   "id": "398613d5",
   "metadata": {
    "deletable": false,
    "editable": false,
    "nbgrader": {
     "cell_type": "code",
     "checksum": "1c58dfc6edeeaea6ad2321d2262fb656",
     "grade": true,
     "grade_id": "cell-8032f92b9dc27c72",
     "locked": true,
     "points": 3,
     "schema_version": 3,
     "solution": false,
     "task": false
    }
   },
   "outputs": [],
   "source": []
  },
  {
   "cell_type": "markdown",
   "id": "30daa2e1",
   "metadata": {
    "deletable": false,
    "editable": false,
    "nbgrader": {
     "cell_type": "markdown",
     "checksum": "c0d4c1845574444af280e95c5a37beb3",
     "grade": false,
     "grade_id": "cell-c4c61cf63b35dc1d",
     "locked": true,
     "schema_version": 3,
     "solution": false,
     "task": false
    }
   },
   "source": [
    "---------\n",
    "---------\n",
    "\n",
    "e.) **(6 Points)** Create a following query to return the directors of movies starring Tommy Wiseau. Store the result in a variable called _tommy_\n",
    "\n",
    "---------"
   ]
  },
  {
   "cell_type": "code",
   "execution_count": 9,
   "id": "a99f616e",
   "metadata": {
    "deletable": false,
    "nbgrader": {
     "cell_type": "code",
     "checksum": "afd4b16f39ebb120834f61fbc492fd57",
     "grade": false,
     "grade_id": "cell-6ca78cd6e7cc68e5",
     "locked": false,
     "schema_version": 3,
     "solution": true,
     "task": false
    }
   },
   "outputs": [],
   "source": [
    "# YOUR CODE HERE\n",
    "# to return the name of director of movies starring Tommy Wiseau, we have to do inner join table Movies and table Directors\n",
    "# after that we need condition which movie has actor Tommy Wiseau \n",
    "cursorObject.execute('''SELECT name FROM Directors\n",
    "                        inner join Movies on Movies.Director = Directors.DirectorID \n",
    "                        where Movies.Actor = \n",
    "                        (select ActorID from Actors\n",
    "                        where name = 'Tommy Wiseau');''',)\n",
    "directors = cursorObject.fetchall()\n",
    "# to get only the name of director from the result, assign directors[0][0], as the type of directors is list and the vlaue of 'Tommy Wiseau' is in tuple\n",
    "tommy = directors[0][0]\n",
    "#raise NotImplementedError()"
   ]
  },
  {
   "cell_type": "code",
   "execution_count": null,
   "id": "b96ee5ea",
   "metadata": {
    "deletable": false,
    "editable": false,
    "nbgrader": {
     "cell_type": "code",
     "checksum": "87e6528f8b1be2a7c027dc9ae819bd95",
     "grade": true,
     "grade_id": "cell-6227290662d546cc",
     "locked": true,
     "points": 3,
     "schema_version": 3,
     "solution": false,
     "task": false
    }
   },
   "outputs": [],
   "source": []
  },
  {
   "cell_type": "markdown",
   "id": "9cc29647",
   "metadata": {
    "deletable": false,
    "editable": false,
    "nbgrader": {
     "cell_type": "markdown",
     "checksum": "805a55c1aef484cc5d8d1ab381c37205",
     "grade": false,
     "grade_id": "cell-5e33e47f87d09f21",
     "locked": true,
     "schema_version": 3,
     "solution": false,
     "task": false
    }
   },
   "source": [
    "----------\n",
    "----------\n",
    "f) **(1 Point)** Close the connection.\n",
    "\n",
    "----------"
   ]
  },
  {
   "cell_type": "code",
   "execution_count": 11,
   "id": "9783e642",
   "metadata": {
    "deletable": false,
    "nbgrader": {
     "cell_type": "code",
     "checksum": "a3f4f35072df47f7c0e9c70c91ef8009",
     "grade": false,
     "grade_id": "cell-b69d938db7aa93b2",
     "locked": false,
     "schema_version": 3,
     "solution": true,
     "task": false
    }
   },
   "outputs": [],
   "source": [
    "# YOUR CODE HERE\n",
    "conn.close()\n",
    "#raise NotImplementedError()"
   ]
  },
  {
   "cell_type": "code",
   "execution_count": null,
   "id": "7b2a17b7",
   "metadata": {
    "deletable": false,
    "editable": false,
    "nbgrader": {
     "cell_type": "code",
     "checksum": "73c28d160d58a78c7097e406c3995e6a",
     "grade": true,
     "grade_id": "cell-5c19e0eb26c3b078",
     "locked": true,
     "points": 1,
     "schema_version": 3,
     "solution": false,
     "task": false
    }
   },
   "outputs": [],
   "source": []
  },
  {
   "cell_type": "markdown",
   "id": "731fde5f",
   "metadata": {},
   "source": [
    "## Question 2 (30 Points)\n",
    "------------\n",
    "\n",
    "We will connect to the database given in the file **music.db**. This database has quite a large\n",
    "number of tables. We will deal with the following tables which have the following\n",
    "columns.\n",
    "- album: album id, title, artist id\n",
    "- artist: artist id, name\n",
    "- genre: genre id, name\n",
    "- track: track id, name, album id, media type id, genre id, composer, milliseconds, bytes, unit price"
   ]
  },
  {
   "cell_type": "code",
   "execution_count": 3,
   "id": "60bdc5e9",
   "metadata": {
    "deletable": false,
    "editable": false,
    "nbgrader": {
     "cell_type": "code",
     "checksum": "ed5cc5cac1e76f52123e3a9e0d390e43",
     "grade": false,
     "grade_id": "cell-5871a329f307ceae",
     "locked": true,
     "schema_version": 3,
     "solution": false,
     "task": false
    }
   },
   "outputs": [],
   "source": [
    "m_conn = sqlite3.connect('music.db')"
   ]
  },
  {
   "cell_type": "markdown",
   "id": "d6cda008",
   "metadata": {
    "deletable": false,
    "editable": false,
    "nbgrader": {
     "cell_type": "markdown",
     "checksum": "c2a6f62220db55daa76cc7580b5d4e08",
     "grade": false,
     "grade_id": "cell-55651df6e8f7b7e4",
     "locked": true,
     "schema_version": 3,
     "solution": false,
     "task": false
    }
   },
   "source": [
    "--------------\n",
    "--------------\n",
    "a.) **(6 points)** Construct a query which lists the  albums  Red Hot Chili Peppers have in the database and put it into variable called _rhcp_\n",
    "\n",
    "--------------"
   ]
  },
  {
   "cell_type": "code",
   "execution_count": 4,
   "id": "8dbefca7",
   "metadata": {
    "deletable": false,
    "nbgrader": {
     "cell_type": "code",
     "checksum": "96910b07b7ed8b62fea4d43e027ca28f",
     "grade": false,
     "grade_id": "cell-f5165ba583e168f9",
     "locked": false,
     "schema_version": 3,
     "solution": true,
     "task": false
    }
   },
   "outputs": [],
   "source": [
    "# YOUR CODE HERE\n",
    "cursor = m_conn.cursor()\n",
    "# to return the name of albums which have artist 'Red Hot Chili Peppers', we have to do inner join table Movies and table Directors\n",
    "cursor.execute('''SELECT title FROM album\n",
    "                inner join artist on artist.artist_id = album.artist_id\n",
    "                where artist.name = 'Red Hot Chili Peppers';''')\n",
    "\n",
    "titles = cursor.fetchall()\n",
    "rhcp = []\n",
    "# iterate all titles in titles\n",
    "for title in titles:\n",
    "    # add each title to list rhcp\n",
    "    rhcp.append(title[0])\n",
    "\n",
    "#raise NotImplementedError()"
   ]
  },
  {
   "cell_type": "code",
   "execution_count": null,
   "id": "a8203c1b",
   "metadata": {
    "deletable": false,
    "editable": false,
    "nbgrader": {
     "cell_type": "code",
     "checksum": "21f76379875a76f5d284093a5529d5c5",
     "grade": true,
     "grade_id": "cell-4b6426817ca3b4e9",
     "locked": true,
     "points": 3,
     "schema_version": 3,
     "solution": false,
     "task": false
    }
   },
   "outputs": [],
   "source": []
  },
  {
   "cell_type": "markdown",
   "id": "b5273df8",
   "metadata": {
    "deletable": false,
    "editable": false,
    "nbgrader": {
     "cell_type": "markdown",
     "checksum": "1c2504adc827547bef5b6a8bd2e8b765",
     "grade": false,
     "grade_id": "cell-987bc1d01340e999",
     "locked": true,
     "schema_version": 3,
     "solution": false,
     "task": false
    }
   },
   "source": [
    "--------------\n",
    "--------------\n",
    "b.) **(6 points)** Construct a query which lists  all the tracks on the album Achtung Baby and store the result in a variable called _u2_\n",
    "\n",
    "--------------"
   ]
  },
  {
   "cell_type": "code",
   "execution_count": 17,
   "id": "e7249368",
   "metadata": {
    "deletable": false,
    "nbgrader": {
     "cell_type": "code",
     "checksum": "f3b8e4ad17c73e10891195da50061dbb",
     "grade": false,
     "grade_id": "cell-f647d1adcb7ea752",
     "locked": false,
     "schema_version": 3,
     "solution": true,
     "task": false
    }
   },
   "outputs": [],
   "source": [
    "# YOUR CODE HERE\n",
    "# to return all the tracks on the album Achtung Baby, we need to do inner join table album and table track\n",
    "cursor.execute('''SELECT name FROM track\n",
    "                inner join album on album.album_id = track.album_id\n",
    "                where album.title = 'Achtung Baby';''')\n",
    "\n",
    "tracks = cursor.fetchall()\n",
    "u2 = []\n",
    "# iterate all tracks in tracks\n",
    "for track in tracks:\n",
    "    # add each track to list u2\n",
    "    u2.append(track[0])\n",
    "\n",
    "#raise trackz()\n"
   ]
  },
  {
   "cell_type": "code",
   "execution_count": null,
   "id": "df3dea8a",
   "metadata": {
    "deletable": false,
    "editable": false,
    "nbgrader": {
     "cell_type": "code",
     "checksum": "681f08679c9cc0763feb888a463beb3e",
     "grade": true,
     "grade_id": "cell-c9413acfca6e2c28",
     "locked": true,
     "points": 12,
     "schema_version": 3,
     "solution": false,
     "task": false
    }
   },
   "outputs": [],
   "source": []
  },
  {
   "cell_type": "markdown",
   "id": "9f843ba2",
   "metadata": {
    "deletable": false,
    "editable": false,
    "nbgrader": {
     "cell_type": "markdown",
     "checksum": "a0a6e0adf24668face54a9b6839a5fb3",
     "grade": false,
     "grade_id": "cell-d42f0ceed080fa98",
     "locked": true,
     "schema_version": 3,
     "solution": false,
     "task": false
    }
   },
   "source": [
    "--------------\n",
    "--------------\n",
    "\n",
    "c.) **(8 points)** Construct a query which returns how much it would cost to buy all Metallica songs to the nearest pound and store it in a variable called _rockon_\n",
    "- You should assume the track costs are in pounds\n",
    "\n",
    "---------------"
   ]
  },
  {
   "cell_type": "code",
   "execution_count": 19,
   "id": "7629a591",
   "metadata": {
    "deletable": false,
    "nbgrader": {
     "cell_type": "code",
     "checksum": "a653fdff20be7abe19d2dacbfcba9093",
     "grade": false,
     "grade_id": "cell-87e53aac9841a7cd",
     "locked": false,
     "schema_version": 3,
     "solution": true,
     "task": false
    }
   },
   "outputs": [],
   "source": [
    "# YOUR CODE HERE\n",
    "# to return the price to buy all Metallica songs, we need to do inner join table album and table track with column album_id\n",
    "# after that we need condition that the artist id of Metallica is equal to the column artist_id of table album\n",
    "# and then we have to sum of all unit_price of the result and then multiply 0.83 ($1 equals to £0.83)\n",
    "cursor.execute('''SELECT sum(unit_price)*0.83 FROM track\n",
    "                inner join album on album.album_id = track.album_id\n",
    "                where album.artist_id =\n",
    "                (select artist.artist_id from artist\n",
    "                where name = 'Metallica')''')\n",
    "# to get only the price from the result, assign cursor.fetchall()[0][0] to rockon, as the type of cursor.fetchall() is list and the vlaue of '89.8127~~' is in tuple\n",
    "rockon = cursor.fetchall()[0][0]\n",
    "\n",
    "#raise NotImplementedError()"
   ]
  },
  {
   "cell_type": "code",
   "execution_count": 20,
   "id": "f347ee9b",
   "metadata": {},
   "outputs": [
    {
     "data": {
      "text/plain": [
       "92.03039999999983"
      ]
     },
     "execution_count": 20,
     "metadata": {},
     "output_type": "execute_result"
    }
   ],
   "source": [
    "rockon"
   ]
  },
  {
   "cell_type": "code",
   "execution_count": null,
   "id": "94db5ab9",
   "metadata": {
    "deletable": false,
    "editable": false,
    "nbgrader": {
     "cell_type": "code",
     "checksum": "90428f3b5514a42659ef9cd9f8858f7a",
     "grade": true,
     "grade_id": "cell-39d561dd07a1487e",
     "locked": true,
     "points": 8,
     "schema_version": 3,
     "solution": false,
     "task": false
    }
   },
   "outputs": [],
   "source": []
  },
  {
   "cell_type": "markdown",
   "id": "190166db",
   "metadata": {
    "deletable": false,
    "editable": false,
    "nbgrader": {
     "cell_type": "markdown",
     "checksum": "346d097d026dfe10ab97f925d570bfe5",
     "grade": false,
     "grade_id": "cell-957ef22d55b4aad1",
     "locked": true,
     "schema_version": 3,
     "solution": false,
     "task": false
    }
   },
   "source": [
    "--------------\n",
    "--------------\n",
    "\n",
    "d.) **(10 points)** Construct a query which returns the name and the length of the longest Rock song and transforms it in seconds (to the nearest second) and stores the name in a variable called _longsong_ and the length in a variable called _time_\n",
    "\n",
    "---------------"
   ]
  },
  {
   "cell_type": "code",
   "execution_count": 21,
   "id": "e111591f",
   "metadata": {
    "deletable": false,
    "nbgrader": {
     "cell_type": "code",
     "checksum": "185f1b0cb7a896908e0476e41d3166ea",
     "grade": false,
     "grade_id": "cell-22085a2262c1dea4",
     "locked": false,
     "schema_version": 3,
     "solution": true,
     "task": false
    }
   },
   "outputs": [],
   "source": [
    "# YOUR CODE HERE\n",
    "# to return the name the logest song and the seconds of the logest song,\n",
    "# we need to do inner join table genre and track with the column genre_id\n",
    "# and we need the condition that the name of genre equals to Rock\n",
    "# after that we can transform maximum of milliseconds of result to second by dividing 1000\n",
    "# also we need to select name of track using track.name\n",
    "cursor.execute('''SELECT max(milliseconds)/1000, track.name FROM track\n",
    "                inner join genre on genre.genre_id = track.genre_id\n",
    "                where genre.name = 'Rock' ;''')\n",
    "x = cursor.fetchall()\n",
    "# assign x[0][0] to time, and x[0][1] to longsong\n",
    "# as the type of x is list and each value is in tuple\n",
    "time = x[0][0] \n",
    "longsong = x[0][1]\n",
    "\n",
    "#print(time, longsong)\n",
    "\n",
    "#raise NotImplementedError()"
   ]
  },
  {
   "cell_type": "code",
   "execution_count": null,
   "id": "a3810ad4",
   "metadata": {
    "deletable": false,
    "editable": false,
    "nbgrader": {
     "cell_type": "code",
     "checksum": "64f41d9752718e2bd9f188b5ffd3ad47",
     "grade": true,
     "grade_id": "cell-ad34c0ea525892b1",
     "locked": true,
     "points": 10,
     "schema_version": 3,
     "solution": false,
     "task": false
    }
   },
   "outputs": [],
   "source": []
  },
  {
   "cell_type": "code",
   "execution_count": 24,
   "id": "2b745049",
   "metadata": {
    "deletable": false,
    "editable": false,
    "nbgrader": {
     "cell_type": "code",
     "checksum": "bc0e029473a3df9bd47835142af70524",
     "grade": false,
     "grade_id": "cell-f02287a7cc716531",
     "locked": true,
     "schema_version": 3,
     "solution": false,
     "task": false
    }
   },
   "outputs": [],
   "source": [
    "m_conn.close()"
   ]
  },
  {
   "cell_type": "markdown",
   "id": "6102d5a5",
   "metadata": {
    "deletable": false,
    "editable": false,
    "nbgrader": {
     "cell_type": "markdown",
     "checksum": "c702342ff8bb0fb75eb9948612b73dfe",
     "grade": false,
     "grade_id": "cell-10fedeb3f006fffd",
     "locked": true,
     "schema_version": 3,
     "solution": false,
     "task": false
    }
   },
   "source": [
    "## Question 3 (30 Points)\n",
    "------------\n",
    "\n",
    "\n",
    "We will connect to the database given in the file **eateries.sqlite**. This database has health inspection violations for San Francisco stored in 3 tables\n",
    "- 'businesses'\n",
    "- 'inspections'\n",
    "- 'violations'\n",
    "\n",
    "The cell below will print out the columns of the tables as pandas dataframes so you can examine them and then construct the queries. Unless otherwise stated you must only use SQL to get full marks. "
   ]
  },
  {
   "cell_type": "code",
   "execution_count": 25,
   "id": "7066d5f9",
   "metadata": {
    "deletable": false,
    "editable": false,
    "nbgrader": {
     "cell_type": "code",
     "checksum": "69f64d69ccaa6c28eeda014d2f6f142e",
     "grade": false,
     "grade_id": "cell-1f1352e3d8d94392",
     "locked": true,
     "schema_version": 3,
     "solution": false,
     "task": false
    }
   },
   "outputs": [
    {
     "name": "stdout",
     "output_type": "stream",
     "text": [
      "businesses\n"
     ]
    },
    {
     "data": {
      "text/html": [
       "<div>\n",
       "<style scoped>\n",
       "    .dataframe tbody tr th:only-of-type {\n",
       "        vertical-align: middle;\n",
       "    }\n",
       "\n",
       "    .dataframe tbody tr th {\n",
       "        vertical-align: top;\n",
       "    }\n",
       "\n",
       "    .dataframe thead th {\n",
       "        text-align: right;\n",
       "    }\n",
       "</style>\n",
       "<table border=\"1\" class=\"dataframe\">\n",
       "  <thead>\n",
       "    <tr style=\"text-align: right;\">\n",
       "      <th></th>\n",
       "      <th>cid</th>\n",
       "      <th>name</th>\n",
       "      <th>type</th>\n",
       "      <th>notnull</th>\n",
       "      <th>dflt_value</th>\n",
       "      <th>pk</th>\n",
       "    </tr>\n",
       "  </thead>\n",
       "  <tbody>\n",
       "    <tr>\n",
       "      <th>0</th>\n",
       "      <td>0</td>\n",
       "      <td>business_id</td>\n",
       "      <td>INTEGER</td>\n",
       "      <td>1</td>\n",
       "      <td>None</td>\n",
       "      <td>0</td>\n",
       "    </tr>\n",
       "    <tr>\n",
       "      <th>1</th>\n",
       "      <td>1</td>\n",
       "      <td>name</td>\n",
       "      <td>VARCHAR(64)</td>\n",
       "      <td>0</td>\n",
       "      <td>None</td>\n",
       "      <td>0</td>\n",
       "    </tr>\n",
       "    <tr>\n",
       "      <th>2</th>\n",
       "      <td>2</td>\n",
       "      <td>address</td>\n",
       "      <td>VARCHAR(50)</td>\n",
       "      <td>0</td>\n",
       "      <td>None</td>\n",
       "      <td>0</td>\n",
       "    </tr>\n",
       "    <tr>\n",
       "      <th>3</th>\n",
       "      <td>3</td>\n",
       "      <td>city</td>\n",
       "      <td>VARCHAR(23)</td>\n",
       "      <td>0</td>\n",
       "      <td>None</td>\n",
       "      <td>0</td>\n",
       "    </tr>\n",
       "    <tr>\n",
       "      <th>4</th>\n",
       "      <td>4</td>\n",
       "      <td>postal_code</td>\n",
       "      <td>VARCHAR(9)</td>\n",
       "      <td>0</td>\n",
       "      <td>None</td>\n",
       "      <td>0</td>\n",
       "    </tr>\n",
       "    <tr>\n",
       "      <th>5</th>\n",
       "      <td>5</td>\n",
       "      <td>latitude</td>\n",
       "      <td>FLOAT</td>\n",
       "      <td>0</td>\n",
       "      <td>None</td>\n",
       "      <td>0</td>\n",
       "    </tr>\n",
       "    <tr>\n",
       "      <th>6</th>\n",
       "      <td>6</td>\n",
       "      <td>longitude</td>\n",
       "      <td>FLOAT</td>\n",
       "      <td>0</td>\n",
       "      <td>None</td>\n",
       "      <td>0</td>\n",
       "    </tr>\n",
       "    <tr>\n",
       "      <th>7</th>\n",
       "      <td>7</td>\n",
       "      <td>phone_number</td>\n",
       "      <td>BIGINT</td>\n",
       "      <td>0</td>\n",
       "      <td>None</td>\n",
       "      <td>0</td>\n",
       "    </tr>\n",
       "    <tr>\n",
       "      <th>8</th>\n",
       "      <td>8</td>\n",
       "      <td>TaxCode</td>\n",
       "      <td>VARCHAR(4)</td>\n",
       "      <td>0</td>\n",
       "      <td>None</td>\n",
       "      <td>0</td>\n",
       "    </tr>\n",
       "    <tr>\n",
       "      <th>9</th>\n",
       "      <td>9</td>\n",
       "      <td>business_certificate</td>\n",
       "      <td>INTEGER</td>\n",
       "      <td>0</td>\n",
       "      <td>None</td>\n",
       "      <td>0</td>\n",
       "    </tr>\n",
       "    <tr>\n",
       "      <th>10</th>\n",
       "      <td>10</td>\n",
       "      <td>application_date</td>\n",
       "      <td>DATE</td>\n",
       "      <td>0</td>\n",
       "      <td>None</td>\n",
       "      <td>0</td>\n",
       "    </tr>\n",
       "    <tr>\n",
       "      <th>11</th>\n",
       "      <td>11</td>\n",
       "      <td>owner_name</td>\n",
       "      <td>VARCHAR(99)</td>\n",
       "      <td>0</td>\n",
       "      <td>None</td>\n",
       "      <td>0</td>\n",
       "    </tr>\n",
       "    <tr>\n",
       "      <th>12</th>\n",
       "      <td>12</td>\n",
       "      <td>owner_address</td>\n",
       "      <td>VARCHAR(74)</td>\n",
       "      <td>0</td>\n",
       "      <td>None</td>\n",
       "      <td>0</td>\n",
       "    </tr>\n",
       "    <tr>\n",
       "      <th>13</th>\n",
       "      <td>13</td>\n",
       "      <td>owner_city</td>\n",
       "      <td>VARCHAR(22)</td>\n",
       "      <td>0</td>\n",
       "      <td>None</td>\n",
       "      <td>0</td>\n",
       "    </tr>\n",
       "    <tr>\n",
       "      <th>14</th>\n",
       "      <td>14</td>\n",
       "      <td>owner_state</td>\n",
       "      <td>VARCHAR(14)</td>\n",
       "      <td>0</td>\n",
       "      <td>None</td>\n",
       "      <td>0</td>\n",
       "    </tr>\n",
       "    <tr>\n",
       "      <th>15</th>\n",
       "      <td>15</td>\n",
       "      <td>owner_zip</td>\n",
       "      <td>VARCHAR(15)</td>\n",
       "      <td>0</td>\n",
       "      <td>None</td>\n",
       "      <td>0</td>\n",
       "    </tr>\n",
       "  </tbody>\n",
       "</table>\n",
       "</div>"
      ],
      "text/plain": [
       "    cid                  name         type  notnull dflt_value  pk\n",
       "0     0           business_id      INTEGER        1       None   0\n",
       "1     1                  name  VARCHAR(64)        0       None   0\n",
       "2     2               address  VARCHAR(50)        0       None   0\n",
       "3     3                  city  VARCHAR(23)        0       None   0\n",
       "4     4           postal_code   VARCHAR(9)        0       None   0\n",
       "5     5              latitude        FLOAT        0       None   0\n",
       "6     6             longitude        FLOAT        0       None   0\n",
       "7     7          phone_number       BIGINT        0       None   0\n",
       "8     8               TaxCode   VARCHAR(4)        0       None   0\n",
       "9     9  business_certificate      INTEGER        0       None   0\n",
       "10   10      application_date         DATE        0       None   0\n",
       "11   11            owner_name  VARCHAR(99)        0       None   0\n",
       "12   12         owner_address  VARCHAR(74)        0       None   0\n",
       "13   13            owner_city  VARCHAR(22)        0       None   0\n",
       "14   14           owner_state  VARCHAR(14)        0       None   0\n",
       "15   15             owner_zip  VARCHAR(15)        0       None   0"
      ]
     },
     "metadata": {},
     "output_type": "display_data"
    },
    {
     "name": "stdout",
     "output_type": "stream",
     "text": [
      "inspections\n"
     ]
    },
    {
     "data": {
      "text/html": [
       "<div>\n",
       "<style scoped>\n",
       "    .dataframe tbody tr th:only-of-type {\n",
       "        vertical-align: middle;\n",
       "    }\n",
       "\n",
       "    .dataframe tbody tr th {\n",
       "        vertical-align: top;\n",
       "    }\n",
       "\n",
       "    .dataframe thead th {\n",
       "        text-align: right;\n",
       "    }\n",
       "</style>\n",
       "<table border=\"1\" class=\"dataframe\">\n",
       "  <thead>\n",
       "    <tr style=\"text-align: right;\">\n",
       "      <th></th>\n",
       "      <th>cid</th>\n",
       "      <th>name</th>\n",
       "      <th>type</th>\n",
       "      <th>notnull</th>\n",
       "      <th>dflt_value</th>\n",
       "      <th>pk</th>\n",
       "    </tr>\n",
       "  </thead>\n",
       "  <tbody>\n",
       "    <tr>\n",
       "      <th>0</th>\n",
       "      <td>0</td>\n",
       "      <td>business_id</td>\n",
       "      <td>TEXT</td>\n",
       "      <td>1</td>\n",
       "      <td>None</td>\n",
       "      <td>0</td>\n",
       "    </tr>\n",
       "    <tr>\n",
       "      <th>1</th>\n",
       "      <td>1</td>\n",
       "      <td>Score</td>\n",
       "      <td>INTEGER</td>\n",
       "      <td>0</td>\n",
       "      <td>None</td>\n",
       "      <td>0</td>\n",
       "    </tr>\n",
       "    <tr>\n",
       "      <th>2</th>\n",
       "      <td>2</td>\n",
       "      <td>date</td>\n",
       "      <td>TEXT</td>\n",
       "      <td>1</td>\n",
       "      <td>None</td>\n",
       "      <td>0</td>\n",
       "    </tr>\n",
       "    <tr>\n",
       "      <th>3</th>\n",
       "      <td>3</td>\n",
       "      <td>type</td>\n",
       "      <td>VARCHAR(33)</td>\n",
       "      <td>1</td>\n",
       "      <td>None</td>\n",
       "      <td>0</td>\n",
       "    </tr>\n",
       "  </tbody>\n",
       "</table>\n",
       "</div>"
      ],
      "text/plain": [
       "   cid         name         type  notnull dflt_value  pk\n",
       "0    0  business_id         TEXT        1       None   0\n",
       "1    1        Score      INTEGER        0       None   0\n",
       "2    2         date         TEXT        1       None   0\n",
       "3    3         type  VARCHAR(33)        1       None   0"
      ]
     },
     "metadata": {},
     "output_type": "display_data"
    },
    {
     "name": "stdout",
     "output_type": "stream",
     "text": [
      "violations\n"
     ]
    },
    {
     "data": {
      "text/html": [
       "<div>\n",
       "<style scoped>\n",
       "    .dataframe tbody tr th:only-of-type {\n",
       "        vertical-align: middle;\n",
       "    }\n",
       "\n",
       "    .dataframe tbody tr th {\n",
       "        vertical-align: top;\n",
       "    }\n",
       "\n",
       "    .dataframe thead th {\n",
       "        text-align: right;\n",
       "    }\n",
       "</style>\n",
       "<table border=\"1\" class=\"dataframe\">\n",
       "  <thead>\n",
       "    <tr style=\"text-align: right;\">\n",
       "      <th></th>\n",
       "      <th>cid</th>\n",
       "      <th>name</th>\n",
       "      <th>type</th>\n",
       "      <th>notnull</th>\n",
       "      <th>dflt_value</th>\n",
       "      <th>pk</th>\n",
       "    </tr>\n",
       "  </thead>\n",
       "  <tbody>\n",
       "    <tr>\n",
       "      <th>0</th>\n",
       "      <td>0</td>\n",
       "      <td>business_id</td>\n",
       "      <td>TEXT</td>\n",
       "      <td>1</td>\n",
       "      <td>None</td>\n",
       "      <td>0</td>\n",
       "    </tr>\n",
       "    <tr>\n",
       "      <th>1</th>\n",
       "      <td>1</td>\n",
       "      <td>date</td>\n",
       "      <td>TEXT</td>\n",
       "      <td>1</td>\n",
       "      <td>None</td>\n",
       "      <td>0</td>\n",
       "    </tr>\n",
       "    <tr>\n",
       "      <th>2</th>\n",
       "      <td>2</td>\n",
       "      <td>ViolationTypeID</td>\n",
       "      <td>TEXT</td>\n",
       "      <td>1</td>\n",
       "      <td>None</td>\n",
       "      <td>0</td>\n",
       "    </tr>\n",
       "    <tr>\n",
       "      <th>3</th>\n",
       "      <td>3</td>\n",
       "      <td>risk_category</td>\n",
       "      <td>TEXT</td>\n",
       "      <td>1</td>\n",
       "      <td>None</td>\n",
       "      <td>0</td>\n",
       "    </tr>\n",
       "    <tr>\n",
       "      <th>4</th>\n",
       "      <td>4</td>\n",
       "      <td>description</td>\n",
       "      <td>TEXT</td>\n",
       "      <td>1</td>\n",
       "      <td>None</td>\n",
       "      <td>0</td>\n",
       "    </tr>\n",
       "  </tbody>\n",
       "</table>\n",
       "</div>"
      ],
      "text/plain": [
       "   cid             name  type  notnull dflt_value  pk\n",
       "0    0      business_id  TEXT        1       None   0\n",
       "1    1             date  TEXT        1       None   0\n",
       "2    2  ViolationTypeID  TEXT        1       None   0\n",
       "3    3    risk_category  TEXT        1       None   0\n",
       "4    4      description  TEXT        1       None   0"
      ]
     },
     "metadata": {},
     "output_type": "display_data"
    }
   ],
   "source": [
    "# This will open the connection\n",
    "# and print out the tables\n",
    "\n",
    "# the function takes as input the Cursor_Object and \n",
    "# returns the table in form of pd.DataFrame()\n",
    "def sql_to_frame(cu):\n",
    "    data = cu.fetchall()\n",
    "    data = list(list(x) for x in data)\n",
    "    dataColumns = [column[0] for column in cu.description]\n",
    "    df = pd.DataFrame(data, columns=dataColumns)\n",
    "    return df \n",
    "\n",
    "\n",
    "e_conn = sqlite3.connect('eateries.sqlite')\n",
    "c = e_conn.cursor()\n",
    "table_list =['businesses','inspections','violations']\n",
    "for t in table_list:\n",
    "    print(t)\n",
    "    c.execute(f\"PRAGMA table_info({t});\")\n",
    "    display(sql_to_frame(c))"
   ]
  },
  {
   "cell_type": "markdown",
   "id": "392b17ee",
   "metadata": {
    "deletable": false,
    "editable": false,
    "nbgrader": {
     "cell_type": "markdown",
     "checksum": "563a59273c7017145032738162ca497d",
     "grade": false,
     "grade_id": "cell-da73246db71440a2",
     "locked": true,
     "schema_version": 3,
     "solution": false,
     "task": false
    }
   },
   "source": [
    "-----------\n",
    "-----------\n",
    "\n",
    "a.) **(6 points)** How many restaurants do not have a precise geographic location given. Store the number (and only the number) in a variable called _locations_.\n",
    "\n",
    "------------\n"
   ]
  },
  {
   "cell_type": "code",
   "execution_count": 26,
   "id": "e6f61909",
   "metadata": {
    "deletable": false,
    "nbgrader": {
     "cell_type": "code",
     "checksum": "36a1ef098a2ac9f5088764c44047d7f7",
     "grade": false,
     "grade_id": "cell-37a09113d67aaefd",
     "locked": false,
     "schema_version": 3,
     "solution": true,
     "task": false
    }
   },
   "outputs": [],
   "source": [
    "# YOUR CODE HERE\n",
    "# to return the count of restaurants where don't have precise geographic location,\n",
    "# we need the condition that the value of latitude is null or \n",
    "# the value of longitude is null\n",
    "# also we need condition that latitude =0 and longitude = 0 \n",
    "# because latitude =0 and longitude = 0 means that there is no location\n",
    "c.execute('''SELECT count(*) as cnt from  businesses\n",
    "                        where latitude is null or longitude is null\n",
    "                        or (latitude =0 and longitude = 0);''')\n",
    "# assign c.fetchall()[0][0] to locations,\n",
    "# as the type of c.fetchall() is list and the value is in tuple\n",
    "locations = c.fetchall()[0][0]\n",
    "\n",
    "# the other way using the function sql_to_frame()\n",
    "#t = c.execute('''SELECT count(*) as cnt from  businesses\n",
    "#                        where latitude is null or longitude is null\n",
    "#                        or (latitude =0 and longitude = 0);''')\n",
    "#cnt = sql_to_frame(t)\n",
    "#locations = cnt['cnt'][0]"
   ]
  },
  {
   "cell_type": "code",
   "execution_count": null,
   "id": "b0398439",
   "metadata": {
    "deletable": false,
    "editable": false,
    "nbgrader": {
     "cell_type": "code",
     "checksum": "1c925ebc8519e5c0d7e59fbbf64c94e4",
     "grade": true,
     "grade_id": "cell-87bd180ed0f16326",
     "locked": true,
     "points": 5,
     "schema_version": 3,
     "solution": false,
     "task": false
    }
   },
   "outputs": [],
   "source": []
  },
  {
   "cell_type": "markdown",
   "id": "95a8c1b0",
   "metadata": {
    "deletable": false,
    "editable": false,
    "nbgrader": {
     "cell_type": "markdown",
     "checksum": "131e8f4fad3db9d4a476765a7d815db6",
     "grade": false,
     "grade_id": "cell-0aabbb629331e4fa",
     "locked": true,
     "schema_version": 3,
     "solution": false,
     "task": false
    }
   },
   "source": [
    "\n",
    "-----------\n",
    "-----------\n",
    "\n",
    "b.)  **(8 points )** How many spellings of San Francisco are there? (You can assume that all variations count including modifiers such as north, south, east, west) also refer to San Francisco. **You can obtain the result through visual inspection**. Store the number in a variable called _SF_\n",
    "\n",
    "------------\n"
   ]
  },
  {
   "cell_type": "code",
   "execution_count": 83,
   "id": "e495e75e",
   "metadata": {
    "deletable": false,
    "nbgrader": {
     "cell_type": "code",
     "checksum": "4e2e9422e3f0009381813974cb0e1e96",
     "grade": false,
     "grade_id": "cell-a6b91fb9ff5d9858",
     "locked": false,
     "schema_version": 3,
     "solution": true,
     "task": false
    }
   },
   "outputs": [],
   "source": [
    "# YOUR CODE HERE\n",
    "# to return the count of spellings of San Francisco,\n",
    "# we need to check two columns which have names of cities\n",
    "# at first, I selected only two columns which is not null\n",
    "\n",
    "c.execute('''SELECT city, owner_city  from  businesses\n",
    "            where city is not null\n",
    "            or owner_city is not null\n",
    "            ''')\n",
    "# create list res which get names of cities\n",
    "res = []\n",
    "r = c.fetchall()\n",
    "for i in range(len(r)):\n",
    "    for j in range(2):\n",
    "        res.append(r[i][j])\n",
    "\n",
    "# use set to remove redundant names of cities\n",
    "cities = set(res)\n",
    "\n",
    "# from visual inspection of cities, I can get the list below\n",
    "ans={'S F',\n",
    " 'S. SF',\n",
    " 'S.F.',\n",
    " 'S.S.F',\n",
    " 'S.S.F.',\n",
    " 'S.SF',\n",
    " 'SAN FANCISCO',\n",
    " 'SAN FRANCICSO',\n",
    " 'SAN FRANCISCO',\n",
    " 'SAN FRANCISO',\n",
    " 'SAN FRANICSCO',\n",
    " 'SAN FRNACISCO',\n",
    " 'SANF FRANCISCO',\n",
    " 'SF',\n",
    " 'SF , CA',\n",
    " 'SF, CA',\n",
    " 'SF, CA 94110',\n",
    " 'SF, CA 94115',\n",
    " 'SF.',\n",
    " 'SF`',\n",
    " 'SO. S.F.',\n",
    " 'SO. SAN FRANCISCO',\n",
    " 'SO.S.F.',\n",
    " 'SOUTH SAN FRANCISCO',\n",
    " 'SSF',\n",
    " 'Sab Francisco',\n",
    " 'San Frabcusci',\n",
    " 'San Fracncisco',\n",
    " 'San Francicso',\n",
    " 'San Franciisco',\n",
    " 'San Francisc',\n",
    " 'San Francisc0o',\n",
    " 'San Franciscco',\n",
    " 'San Francisco',\n",
    " 'San Francisco,',\n",
    " 'San Francisco, CA',\n",
    " 'San Francisco, CA 94132',\n",
    " 'San Francisco, Ca',\n",
    " 'San Francisco, Ca.',\n",
    " 'San Franciscoo',\n",
    " 'San Franciscvo',\n",
    " 'San Franciso',\n",
    " 'San Francisoc',\n",
    " 'San Francsico',\n",
    " 'San Franicisco',\n",
    " 'San Franicsco',\n",
    " 'San Frfancisco',\n",
    " 'San Frqancisco',\n",
    " 'San francisco',\n",
    " 'SanFrancisco',\n",
    " 'Sand Francisco',\n",
    " 'Sn Francisco',\n",
    " 'So. S.F.',\n",
    " 'So. SF',\n",
    " 'So. San Francisco',\n",
    " 'South S. F.',\n",
    " 'South S.F.',\n",
    " 'South SF',\n",
    " 'South San Francisco',\n",
    " 'South San francisco',\n",
    " 's.F. Ca',\n",
    " 'san Francisco',\n",
    " 'san Francisco CA',\n",
    " 'san francisco',\n",
    " 'sf'}\n",
    "\n",
    "SF = len(ans)\n",
    "\n",
    "\n",
    "\n",
    "#c.execute('''SELECT name, address, city, postal_code, TaxCode,\n",
    "#            owner_name, owner_address, owner_city, owner_state, owner_zip\n",
    "#            from  businesses\n",
    "#                    where name like '%San Francisco%'\n",
    "#                    or address like '%San Francisco%'\n",
    "#                    or city like '%San Francisco%'\n",
    "#                    or postal_code like '%San Francisco%'\n",
    "#                    or TaxCode like '%San Francisco%'\n",
    "#                    or owner_name like '%San Francisco%'\n",
    "#                    or owner_address like '%San Francisco%'\n",
    "#                    or owner_city like '%San Francisco%'\n",
    "#                    or owner_state like '%San Francisco%'\n",
    "#                    or owner_zip like '%San Francisco%'\n",
    "#            ''')\n",
    "#set(c.fetchall())\n",
    "#SF = len(set(c.fetchall()))\n",
    "# assign c.fetchall()[0][0] to SF, \n",
    "# as the type of c.fetchall() is list and the value is in tuple\n",
    "#SF = c.fetchall()[0][0]\n",
    "\n",
    "# the other way using the function sql_to_frame()\n",
    "#t = c.execute('''SELECT count(*) san_cnt from  businesses\n",
    "#                    where name like '%San Francisco%'\n",
    "#                    or address like '%San Francisco%'\n",
    "#                    or city like '%San Francisco%'\n",
    "#                    or postal_code like '%San Francisco%'\n",
    "#                    or TaxCode like '%San Francisco%'\n",
    "#                    or owner_name like '%San Francisco%'\n",
    "#                    or owner_address like '%San Francisco%'\n",
    "#                    or owner_city like '%San Francisco%'\n",
    "#                    or owner_state like '%San Francisco%'\n",
    "#                    or owner_zip like '%San Francisco%'\n",
    "#            ''')\n",
    "#san_cnt = sql_to_frame(t)\n",
    "#SF = san_cnt['san_cnt'][0]\n",
    "\n",
    "\n",
    "#raise NotImplementedError()"
   ]
  },
  {
   "cell_type": "code",
   "execution_count": null,
   "id": "d5ff832d",
   "metadata": {
    "deletable": false,
    "editable": false,
    "nbgrader": {
     "cell_type": "code",
     "checksum": "b43f639da68e45f99e0d8334bcac0708",
     "grade": true,
     "grade_id": "cell-59986dd4b63bb4a4",
     "locked": true,
     "points": 8,
     "schema_version": 3,
     "solution": false,
     "task": false
    }
   },
   "outputs": [],
   "source": []
  },
  {
   "cell_type": "markdown",
   "id": "ca9f481d",
   "metadata": {
    "deletable": false,
    "editable": false,
    "nbgrader": {
     "cell_type": "markdown",
     "checksum": "79c41206534915c9d866b78cdcc67310",
     "grade": false,
     "grade_id": "cell-6c640840d2fb34c5",
     "locked": true,
     "schema_version": 3,
     "solution": false,
     "task": false
    }
   },
   "source": [
    "\n",
    "-----------\n",
    "-----------\n",
    "\n",
    "c.) **(16 points)**  Create a histogram plot of the Inspection Scores for January 2014. \n",
    "- Here you should use the function _sql_to_frame()_ which takes a query and returns a pandas dataframe.\n",
    "- Remove any null values\n",
    "------------\n"
   ]
  },
  {
   "cell_type": "code",
   "execution_count": 31,
   "id": "0807b673",
   "metadata": {
    "deletable": false,
    "nbgrader": {
     "cell_type": "code",
     "checksum": "52ee25ce0a7562e46b808272b0f26b0c",
     "grade": true,
     "grade_id": "cell-cc1eed5e1150c151",
     "locked": false,
     "points": 16,
     "schema_version": 3,
     "solution": true,
     "task": false
    }
   },
   "outputs": [
    {
     "data": {
      "text/plain": [
       "<AxesSubplot:title={'center':'Inspection Scores for January 2014'}, ylabel='Frequency'>"
      ]
     },
     "execution_count": 31,
     "metadata": {},
     "output_type": "execute_result"
    },
    {
     "data": {
      "image/png": "[encoded data removed]",
      "text/plain": [
       "<Figure size 432x288 with 1 Axes>"
      ]
     },
     "metadata": {
      "needs_background": "light"
     },
     "output_type": "display_data"
    }
   ],
   "source": [
    "# YOUR CODE HERE\n",
    "# to return the score of the tavle inspections for January 2014\n",
    "# we need condition that the column date is greater than or equal to '20140101' \n",
    "# less than or equal to '20140131'\n",
    "# also we don't need that score is null\n",
    "t = c.execute('''SELECT score as cnt from  inspections\n",
    "                        where date >= '20140101'\n",
    "                        and date <= '20140131'\n",
    "                        and score is not null\n",
    "                        ''')\n",
    "# As the type of the result of sql_to_frame(t) is DataFrame,\n",
    "# we can use hist() directly\n",
    "#sql_to_frame(t).hist()\n",
    "sql_to_frame(t).plot(kind='hist', title='Inspection Scores for January 2014')\n",
    "#raise NotImplementedError()"
   ]
  },
  {
   "cell_type": "code",
   "execution_count": null,
   "id": "3afdd9cb",
   "metadata": {},
   "outputs": [],
   "source": []
  }
 ],
 "metadata": {
  "kernelspec": {
   "display_name": "Python 3 (ipykernel)",
   "language": "python",
   "name": "python3"
  },
  "language_info": {
   "codemirror_mode": {
    "name": "ipython",
    "version": 3
   },
   "file_extension": ".py",
   "mimetype": "text/x-python",
   "name": "python",
   "nbconvert_exporter": "python",
   "pygments_lexer": "ipython3",
   "version": "3.8.8"
  }
 },
 "nbformat": 4,
 "nbformat_minor": 5
}
