{
 "cells": [
  {
   "cell_type": "markdown",
   "id": "f6878511",
   "metadata": {},
   "source": [
    "Before you turn this problem in, make sure everything runs as expected. First, **restart the kernel** (in the menubar, select Kernel$\\rightarrow$Restart) and then **run all cells** (in the menubar, select Cell$\\rightarrow$Run All).\n",
    "\n",
    "Make sure you fill in any place that says `YOUR CODE HERE` or \"YOUR ANSWER HERE\", as well as your name and collaborators below:"
   ]
  },
  {
   "cell_type": "code",
   "execution_count": null,
   "id": "115768f1",
   "metadata": {},
   "outputs": [],
   "source": [
    "NAME = \"\"\n",
    "COLLABORATORS = \"\""
   ]
  },
  {
   "cell_type": "markdown",
   "id": "6aae49fb",
   "metadata": {},
   "source": [
    "---"
   ]
  },
  {
   "cell_type": "markdown",
   "id": "afe06107",
   "metadata": {
    "deletable": false,
    "editable": false,
    "nbgrader": {
     "cell_type": "markdown",
     "checksum": "e4c7be5fdcc656da0597ba92a7141f49",
     "grade": false,
     "grade_id": "cell-7fd27c133f70147e",
     "locked": true,
     "schema_version": 3,
     "solution": false,
     "task": false
    }
   },
   "source": [
    "MTH765P - Coursework 2\n",
    "This is a template notebook for the second assignment  MTH765P,\n",
    "Closely follow the instructions in this template in order \n",
    "to complete the assessment and to obtain full marks. Please only\n",
    "modify cells where you are instructed to do so. Failure to comply\n",
    "may result in unexpected errors that can lead to mark deductions.\n",
    "\n",
    "Author: Primoz Skraba\n",
    "\n",
    "\n",
    "As usual, we begin by loading the necessary libraries. You should not \n",
    "import any other libraries."
   ]
  },
  {
   "cell_type": "code",
   "execution_count": null,
   "id": "d6b46bc6",
   "metadata": {
    "deletable": false,
    "editable": false,
    "nbgrader": {
     "cell_type": "code",
     "checksum": "0118ec76946d52ad2f2de776ed4ec792",
     "grade": false,
     "grade_id": "cell-6b90c06e05248870",
     "locked": true,
     "schema_version": 3,
     "solution": false,
     "task": false
    }
   },
   "outputs": [],
   "source": [
    "import numpy as np\n",
    "import pandas as pd\n",
    "import colorsys\n",
    "import matplotlib.pyplot as plt"
   ]
  },
  {
   "cell_type": "markdown",
   "id": "cf48bd96",
   "metadata": {
    "deletable": false,
    "editable": false,
    "nbgrader": {
     "cell_type": "markdown",
     "checksum": "c4fba3bb7f3f14ed20f5c33cc0daeb1b",
     "grade": false,
     "grade_id": "cell-f37b6802e28f57eb",
     "locked": true,
     "schema_version": 3,
     "solution": false,
     "task": false
    }
   },
   "source": [
    " Instructions \n",
    "========================\n",
    "\n",
    "- The instructions are given in this notebook.   \n",
    "- Make sure you give your answers in the cells below the question\n",
    "- Remember that unless specified each plot should have a title and axis labels (and a legend there are multiple lines/plots on the same axis). \n",
    "- **Do not delete any cells**\n",
    "- Make sure you follow the naming of the variables according to the instructions.\n",
    "- Note that each question has the same weight. The mark for each question "
   ]
  },
  {
   "cell_type": "markdown",
   "id": "2113801e",
   "metadata": {
    "deletable": false,
    "editable": false,
    "nbgrader": {
     "cell_type": "markdown",
     "checksum": "70f82f5809593fbfd81524a049776c2c",
     "grade": false,
     "grade_id": "cell-e47d48f5e0a2d9df",
     "locked": true,
     "schema_version": 3,
     "solution": false,
     "task": false
    }
   },
   "source": [
    " Question 1:\n",
    "===========================\n",
    "\n",
    "------\n",
    "------\n",
    "\n",
    "For this first question, you will generate the random variable X with the code provided. The result is a 200x4 matrix, where each row represents a 4 dimensional point. In the questions below, we refer to coordinates as the 0th, 1st, 2nd, and 3rd coordinates.\n",
    "\n",
    "---------\n"
   ]
  },
  {
   "cell_type": "code",
   "execution_count": null,
   "id": "ce850ba8",
   "metadata": {
    "deletable": false,
    "editable": false,
    "nbgrader": {
     "cell_type": "code",
     "checksum": "5d4ce061d00afb641c278e938e8cf8fc",
     "grade": false,
     "grade_id": "cell-04d34d4b3783fbb8",
     "locked": true,
     "schema_version": 3,
     "solution": false,
     "task": false
    }
   },
   "outputs": [],
   "source": [
    "## Run this cell to create the dataset\n",
    "X = np.random.normal(size=[200,4])\n"
   ]
  },
  {
   "cell_type": "markdown",
   "id": "ab74f3d9",
   "metadata": {
    "deletable": false,
    "editable": false,
    "nbgrader": {
     "cell_type": "markdown",
     "checksum": "6204ac32782f7a634cc3d5a581607ed2",
     "grade": false,
     "grade_id": "cell-82a21acd61f1c48f",
     "locked": true,
     "schema_version": 3,
     "solution": false,
     "task": false
    }
   },
   "source": [
    "-----------------\n",
    "-----------------\n",
    "a.) Create a figure with 3x3 subplots, where the (i,j)-th plot is a scatter plot of the value of the i-th coordinate and the value of the (i+j+1)-th coordinate. So, counting from coordinates from 0,  the first plot is the 0th and the 1st coordinate, the middle plot (middle row, middle column), will be the 1st coordinate and the 3rd coordinate.\n",
    "Note that not all plots will be filled, i.e. some of them will be empty.\n",
    "\n",
    "-----------------\n"
   ]
  },
  {
   "cell_type": "code",
   "execution_count": null,
   "id": "0034e593",
   "metadata": {
    "deletable": false,
    "nbgrader": {
     "cell_type": "code",
     "checksum": "64d708fb530ebd1182e5a706cdbf84b8",
     "grade": true,
     "grade_id": "cell-d6b6ddf3aa5ebb57",
     "locked": false,
     "points": 10,
     "schema_version": 3,
     "solution": true,
     "task": false
    }
   },
   "outputs": [],
   "source": [
    "# YOUR CODE HERE\n",
    "raise NotImplementedError()"
   ]
  },
  {
   "cell_type": "markdown",
   "id": "86e281e6",
   "metadata": {
    "deletable": false,
    "editable": false,
    "nbgrader": {
     "cell_type": "markdown",
     "checksum": "51814477106db8f1e8da70796102a5e2",
     "grade": false,
     "grade_id": "cell-ad3796ac4afd0949",
     "locked": true,
     "schema_version": 3,
     "solution": false,
     "task": false
    }
   },
   "source": [
    "-----------------\n",
    "-----------------\n",
    "b.) Compute the minimum, maximum and average of each row and store them in variables caled _mn_, _mx_, and _avg_. Each should be a 200x1 vector. \n",
    "\n",
    "-----------------"
   ]
  },
  {
   "cell_type": "code",
   "execution_count": null,
   "id": "857d3015",
   "metadata": {
    "deletable": false,
    "nbgrader": {
     "cell_type": "code",
     "checksum": "46fb1825b6e8e4afc0a8ba1a7fd7dbc7",
     "grade": false,
     "grade_id": "cell-daa12d3d25cc3bcd",
     "locked": false,
     "schema_version": 3,
     "solution": true,
     "task": false
    }
   },
   "outputs": [],
   "source": [
    "# YOUR CODE HERE\n",
    "raise NotImplementedError()\n",
    "\n"
   ]
  },
  {
   "cell_type": "code",
   "execution_count": null,
   "id": "26acb374",
   "metadata": {
    "deletable": false,
    "editable": false,
    "nbgrader": {
     "cell_type": "code",
     "checksum": "72194916ebee4272920c22c0fed39397",
     "grade": true,
     "grade_id": "cell-92654a7027a2ef85",
     "locked": true,
     "points": 5,
     "schema_version": 3,
     "solution": false,
     "task": false
    }
   },
   "outputs": [],
   "source": []
  },
  {
   "cell_type": "markdown",
   "id": "a0fd691e",
   "metadata": {},
   "source": [
    "-----------------\n",
    "-----------------\n",
    "c.) Using Matplotlib, on one axis, plot the following:\n",
    "- Histograms of the minimum, maximum and average of each row of X\n",
    "- Each histogram should have 20 bins\n",
    "- All three histograms are completely visible. \n",
    "\n",
    "-----------------"
   ]
  },
  {
   "cell_type": "code",
   "execution_count": null,
   "id": "7b385f88",
   "metadata": {
    "deletable": false,
    "nbgrader": {
     "cell_type": "code",
     "checksum": "dc16d8f465fcabe360f84843b5763803",
     "grade": true,
     "grade_id": "cell-8ffd856e8d4e91c3",
     "locked": false,
     "points": 10,
     "schema_version": 3,
     "solution": true,
     "task": false
    }
   },
   "outputs": [],
   "source": [
    "# YOUR CODE HERE\n",
    "raise NotImplementedError()"
   ]
  },
  {
   "cell_type": "markdown",
   "id": "47d10c44",
   "metadata": {
    "deletable": false,
    "editable": false,
    "nbgrader": {
     "cell_type": "markdown",
     "checksum": "10e11345f804bcc51ff3391987929d38",
     "grade": false,
     "grade_id": "cell-7b99a3a2dac7251a",
     "locked": true,
     "schema_version": 3,
     "solution": false,
     "task": false
    }
   },
   "source": [
    "-----------------\n",
    "-----------------\n",
    "\n",
    "d.) How many rows in X have all coordinates whose absolute value is smaller than 0.6? Store the answer in a variable called _numpts_. **HINT:** The NumPy function _abs()_ may be useful. \n",
    "\n",
    "-----------------"
   ]
  },
  {
   "cell_type": "code",
   "execution_count": null,
   "id": "9e01aea7",
   "metadata": {
    "deletable": false,
    "nbgrader": {
     "cell_type": "code",
     "checksum": "7b48da5e01542214a3e9ec2e4d09957e",
     "grade": false,
     "grade_id": "cell-0072df1fcb17e164",
     "locked": false,
     "schema_version": 3,
     "solution": true,
     "task": false
    }
   },
   "outputs": [],
   "source": [
    "# YOUR CODE HERE\n",
    "raise NotImplementedError()\n",
    "numpts"
   ]
  },
  {
   "cell_type": "code",
   "execution_count": null,
   "id": "a5bb9cd5",
   "metadata": {
    "deletable": false,
    "editable": false,
    "nbgrader": {
     "cell_type": "code",
     "checksum": "f3c405ad64bc10437c1d2f5ec30eb75e",
     "grade": true,
     "grade_id": "cell-1656a027f1c3de17",
     "locked": true,
     "points": 2,
     "schema_version": 3,
     "solution": false,
     "task": false
    }
   },
   "outputs": [],
   "source": []
  },
  {
   "cell_type": "markdown",
   "id": "0d608e53",
   "metadata": {
    "deletable": false,
    "editable": false,
    "nbgrader": {
     "cell_type": "markdown",
     "checksum": "5aeff6b0fc119b5a1ed6c2651cf92e62",
     "grade": false,
     "grade_id": "cell-c8ccfd6b65dac8e1",
     "locked": true,
     "schema_version": 3,
     "solution": false,
     "task": false
    }
   },
   "source": [
    "-----------------\n",
    "-----------------\n",
    "\n",
    "e.) Does the answer in d.) agree with what you see in the figures in a.)? Here I am asking you to interpret the Figure you created in a.) (the scatter plot of pairs of coordinates) with the answer you obtained in d.). Does they agree or do they not? Why or why not? (a few sentences are sufficient).\n",
    "\n",
    "-----------------"
   ]
  },
  {
   "cell_type": "markdown",
   "id": "13eb83cb",
   "metadata": {
    "deletable": false,
    "nbgrader": {
     "cell_type": "markdown",
     "checksum": "ea4e8997f1c0f0f63175c050b9bd509e",
     "grade": true,
     "grade_id": "cell-3e032b9fc4f8dda6",
     "locked": false,
     "points": 2,
     "schema_version": 3,
     "solution": true,
     "task": false
    }
   },
   "source": [
    "YOUR ANSWER HERE"
   ]
  },
  {
   "cell_type": "markdown",
   "id": "a3a9113d",
   "metadata": {
    "deletable": false,
    "editable": false,
    "nbgrader": {
     "cell_type": "markdown",
     "checksum": "6c1d9b569fa3a906b8b58a591c642539",
     "grade": false,
     "grade_id": "cell-3ca48fb32d5def79",
     "locked": true,
     "schema_version": 3,
     "solution": false,
     "task": false
    }
   },
   "source": [
    " Question 2:\n",
    " =====================================\n",
    "\n",
    "----------------\n",
    "----------------\n",
    "a.) Read in the file **housing.csv** using Pandas into a variable called housing.\n",
    "\n",
    "----------------"
   ]
  },
  {
   "cell_type": "code",
   "execution_count": null,
   "id": "087baaa2",
   "metadata": {
    "deletable": false,
    "nbgrader": {
     "cell_type": "code",
     "checksum": "60961f3c0bda3413a1c7a51005500396",
     "grade": false,
     "grade_id": "cell-ef8f055f7e38dc5d",
     "locked": false,
     "schema_version": 3,
     "solution": true,
     "task": false
    }
   },
   "outputs": [],
   "source": [
    "# YOUR CODE HERE\n",
    "raise NotImplementedError()\n"
   ]
  },
  {
   "cell_type": "code",
   "execution_count": null,
   "id": "5df9c4bc",
   "metadata": {
    "deletable": false,
    "editable": false,
    "nbgrader": {
     "cell_type": "code",
     "checksum": "5c2f8ae7c424b5f510d0b97284766825",
     "grade": true,
     "grade_id": "cell-b390d2867fd59f53",
     "locked": true,
     "points": 1,
     "schema_version": 3,
     "solution": false,
     "task": false
    }
   },
   "outputs": [],
   "source": []
  },
  {
   "cell_type": "markdown",
   "id": "30439616",
   "metadata": {
    "deletable": false,
    "editable": false,
    "nbgrader": {
     "cell_type": "markdown",
     "checksum": "1aff8c09e73577b1330cb7a2086ed3c8",
     "grade": false,
     "grade_id": "cell-ec8c54b8d7343677",
     "locked": true,
     "schema_version": 3,
     "solution": false,
     "task": false
    }
   },
   "source": [
    "\n",
    "---------------\n",
    "---------------\n",
    "b.) Remove all the columns which have undefined values. After this part, the variable housing should not contain any undefined values. \n",
    "\n",
    "----------------"
   ]
  },
  {
   "cell_type": "code",
   "execution_count": null,
   "id": "85b69ecd",
   "metadata": {
    "deletable": false,
    "nbgrader": {
     "cell_type": "code",
     "checksum": "06da3257224f376e0fffe1709ecb6720",
     "grade": false,
     "grade_id": "cell-9bb95ec85743e204",
     "locked": false,
     "schema_version": 3,
     "solution": true,
     "task": false
    }
   },
   "outputs": [],
   "source": [
    "# YOUR CODE HERE\n",
    "raise NotImplementedError()"
   ]
  },
  {
   "cell_type": "code",
   "execution_count": null,
   "id": "1f9a3e4a",
   "metadata": {
    "deletable": false,
    "editable": false,
    "nbgrader": {
     "cell_type": "code",
     "checksum": "e617cfc9589bd3192ed639694240f658",
     "grade": true,
     "grade_id": "cell-ed73f5562aee702e",
     "locked": true,
     "points": 1,
     "schema_version": 3,
     "solution": false,
     "task": false
    }
   },
   "outputs": [],
   "source": []
  },
  {
   "cell_type": "markdown",
   "id": "697b9fb3",
   "metadata": {
    "deletable": false,
    "editable": false,
    "nbgrader": {
     "cell_type": "markdown",
     "checksum": "d751064bf4627f1134ba712b4f25609d",
     "grade": false,
     "grade_id": "cell-ff9ddeac33e095e0",
     "locked": true,
     "schema_version": 3,
     "solution": false,
     "task": false
    }
   },
   "source": [
    "\n",
    "---------------\n",
    "---------------\n",
    "c.) Draw the normalised histogram of prices which had Normal sales using 50 bins\n",
    "\n",
    "----------------"
   ]
  },
  {
   "cell_type": "code",
   "execution_count": null,
   "id": "d1a9ef59",
   "metadata": {
    "deletable": false,
    "nbgrader": {
     "cell_type": "code",
     "checksum": "3f0d8e8e95f349af20bd0b23fafc63c7",
     "grade": true,
     "grade_id": "cell-b40bd1ab54ba973d",
     "locked": false,
     "points": 6,
     "schema_version": 3,
     "solution": true,
     "task": false
    }
   },
   "outputs": [],
   "source": [
    "# YOUR CODE HERE\n",
    "raise NotImplementedError()"
   ]
  },
  {
   "cell_type": "markdown",
   "id": "b6779cd8",
   "metadata": {
    "deletable": false,
    "editable": false,
    "nbgrader": {
     "cell_type": "markdown",
     "checksum": "2a6b4124abc14352e9578e33eb5b4822",
     "grade": false,
     "grade_id": "cell-7964280b022aa25c",
     "locked": true,
     "schema_version": 3,
     "solution": false,
     "task": false
    }
   },
   "source": [
    "\n",
    "---------------\n",
    "---------------\n",
    "d.) Create a dataframe called **summary** with the year as the index and columns for the minimum, maximum, and mean of the sales prices for each year\n",
    " - the names should be minimum, maximum, and mean\n",
    "\n",
    "----------------"
   ]
  },
  {
   "cell_type": "code",
   "execution_count": null,
   "id": "09ab8854",
   "metadata": {
    "deletable": false,
    "nbgrader": {
     "cell_type": "code",
     "checksum": "ea3f38a166fadc07d46f6ccd1535b56d",
     "grade": false,
     "grade_id": "cell-f95fce0a2b5dfb53",
     "locked": false,
     "schema_version": 3,
     "solution": true,
     "task": false
    }
   },
   "outputs": [],
   "source": [
    "# YOUR CODE HERE\n",
    "raise NotImplementedError()"
   ]
  },
  {
   "cell_type": "code",
   "execution_count": null,
   "id": "e115b0be",
   "metadata": {
    "deletable": false,
    "editable": false,
    "nbgrader": {
     "cell_type": "code",
     "checksum": "e41d7055739f2608d44fce0c7b26bbbf",
     "grade": true,
     "grade_id": "cell-0d0ce064aa17efd7",
     "locked": true,
     "points": 6,
     "schema_version": 3,
     "solution": false,
     "task": false
    }
   },
   "outputs": [],
   "source": []
  },
  {
   "cell_type": "markdown",
   "id": "811a19e6",
   "metadata": {
    "deletable": false,
    "editable": false,
    "nbgrader": {
     "cell_type": "markdown",
     "checksum": "58bad601ba98edcd3171679b486cb016",
     "grade": false,
     "grade_id": "cell-552403e0d0303016",
     "locked": true,
     "schema_version": 3,
     "solution": false,
     "task": false
    }
   },
   "source": [
    "\n",
    "---------------\n",
    "---------------\n",
    "\n",
    "e.) Plot the minimum, maximum and mean.\n",
    "\n",
    "---------------"
   ]
  },
  {
   "cell_type": "code",
   "execution_count": null,
   "id": "572c9b2c",
   "metadata": {
    "deletable": false,
    "nbgrader": {
     "cell_type": "code",
     "checksum": "6e5fa7620c9a1fbd161e3692deead348",
     "grade": true,
     "grade_id": "cell-729b7e17904256ac",
     "locked": false,
     "points": 6,
     "schema_version": 3,
     "solution": true,
     "task": false
    }
   },
   "outputs": [],
   "source": [
    "# YOUR CODE HERE\n",
    "raise NotImplementedError()"
   ]
  },
  {
   "cell_type": "markdown",
   "id": "f87fbfd2",
   "metadata": {
    "deletable": false,
    "editable": false,
    "nbgrader": {
     "cell_type": "markdown",
     "checksum": "bc34d8631e3c33cc6016118981a7817b",
     "grade": false,
     "grade_id": "cell-a69385a99d5d4f96",
     "locked": true,
     "schema_version": 3,
     "solution": false,
     "task": false
    }
   },
   "source": [
    "\n",
    " Question 3:\n",
    "========================\n",
    "\n",
    "------------------------------------\n",
    "------------------------------------\n",
    "a.)  Read the file  **unemployment.csv** into a dataframe called _unemp_ using Pandas \n",
    "- Remove any column or row which does not correspond to a country or date\n",
    "- All invalid values should be given a value of 0\n",
    "- All columns except the date name should be numeric while the date should be of type datetime\n",
    "------------------------------------\n"
   ]
  },
  {
   "cell_type": "code",
   "execution_count": null,
   "id": "a33292fe",
   "metadata": {
    "deletable": false,
    "nbgrader": {
     "cell_type": "code",
     "checksum": "3576464c77ffb1b156e5823f4f2bf240",
     "grade": false,
     "grade_id": "cell-8b2b6afbbe6ce899",
     "locked": false,
     "schema_version": 3,
     "solution": true,
     "task": false
    }
   },
   "outputs": [],
   "source": [
    "# YOUR CODE HERE\n",
    "raise NotImplementedError()"
   ]
  },
  {
   "cell_type": "code",
   "execution_count": null,
   "id": "10b028cd",
   "metadata": {
    "deletable": false,
    "editable": false,
    "nbgrader": {
     "cell_type": "code",
     "checksum": "06338e9a20464933f09aa6453f0afe8c",
     "grade": true,
     "grade_id": "cell-19adfe23c5e67925",
     "locked": true,
     "points": 36,
     "schema_version": 3,
     "solution": false,
     "task": false
    }
   },
   "outputs": [],
   "source": []
  },
  {
   "cell_type": "markdown",
   "id": "2c553005",
   "metadata": {
    "deletable": false,
    "editable": false,
    "nbgrader": {
     "cell_type": "markdown",
     "checksum": "02560028876ef058868651568143850a",
     "grade": false,
     "grade_id": "cell-bf21815bec4fadea",
     "locked": true,
     "schema_version": 3,
     "solution": false,
     "task": false
    }
   },
   "source": [
    "------------------------------------\n",
    "------------------------------------\n",
    "b.) Set the index to the Date\n",
    "\n",
    "------------------------------------\n"
   ]
  },
  {
   "cell_type": "code",
   "execution_count": null,
   "id": "4f140884",
   "metadata": {
    "deletable": false,
    "nbgrader": {
     "cell_type": "code",
     "checksum": "ed34d87fdb7dc59055d2169863226c1d",
     "grade": false,
     "grade_id": "cell-9512ab445e490d5b",
     "locked": false,
     "schema_version": 3,
     "solution": true,
     "task": false
    }
   },
   "outputs": [],
   "source": [
    "# YOUR CODE HERE\n",
    "raise NotImplementedError()\n"
   ]
  },
  {
   "cell_type": "code",
   "execution_count": null,
   "id": "802ca2dd",
   "metadata": {
    "deletable": false,
    "editable": false,
    "nbgrader": {
     "cell_type": "code",
     "checksum": "47a1a252572adf9a482f091d82259e73",
     "grade": true,
     "grade_id": "cell-cc7db91da4fa2b7b",
     "locked": true,
     "points": 9,
     "schema_version": 3,
     "solution": false,
     "task": false
    }
   },
   "outputs": [],
   "source": []
  },
  {
   "cell_type": "markdown",
   "id": "b77be92c",
   "metadata": {
    "deletable": false,
    "editable": false,
    "nbgrader": {
     "cell_type": "markdown",
     "checksum": "193cb1fe9ac89f69a63e20df5896b35a",
     "grade": false,
     "grade_id": "cell-e3c1a3e5b7a3774e",
     "locked": true,
     "schema_version": 3,
     "solution": false,
     "task": false
    }
   },
   "source": [
    "------------------------------------\n",
    "------------------------------------\n",
    "c.) Create a line plot corresponding to Canada and Korea using complementary colours (please explicitly make the colours complementary)\n",
    "\n",
    "------------------------------------"
   ]
  },
  {
   "cell_type": "code",
   "execution_count": null,
   "id": "3a25605f",
   "metadata": {
    "deletable": false,
    "nbgrader": {
     "cell_type": "code",
     "checksum": "4259aa802ea4ba7e9cfbc25b3b6864f2",
     "grade": true,
     "grade_id": "cell-53603080b9ae3afe",
     "locked": false,
     "points": 5,
     "schema_version": 3,
     "solution": true,
     "task": false
    }
   },
   "outputs": [],
   "source": [
    "# YOUR CODE HERE\n",
    "raise NotImplementedError()"
   ]
  },
  {
   "cell_type": "markdown",
   "id": "bc177b69",
   "metadata": {
    "deletable": false,
    "editable": false,
    "nbgrader": {
     "cell_type": "markdown",
     "checksum": "15f53b0db2855bdaea4f88b4cd8edf8d",
     "grade": false,
     "grade_id": "cell-a7789bb2aca26188",
     "locked": true,
     "schema_version": 3,
     "solution": false,
     "task": false
    }
   },
   "source": [
    "\n",
    "------------------------------------\n",
    "------------------------------------\n",
    "d.) Complete the function below which takes in an integer and returns N colours equally spaced in hue (with maximum saturation and value/luminance) as rgb values\n",
    "\n",
    "------------------------------------\n"
   ]
  },
  {
   "cell_type": "code",
   "execution_count": null,
   "id": "2590d290",
   "metadata": {
    "deletable": false,
    "nbgrader": {
     "cell_type": "code",
     "checksum": "3a943a7ac923aa625c2d237f8c40f721",
     "grade": false,
     "grade_id": "cell-aed86aeeed80b1f5",
     "locked": false,
     "schema_version": 3,
     "solution": true,
     "task": false
    }
   },
   "outputs": [],
   "source": [
    "def create_colours(N):\n",
    "    colours=[]\n",
    "# YOUR CODE HERE\n",
    "raise NotImplementedError()\n",
    "    return colours"
   ]
  },
  {
   "cell_type": "code",
   "execution_count": null,
   "id": "7eb209cd",
   "metadata": {
    "deletable": false,
    "editable": false,
    "nbgrader": {
     "cell_type": "code",
     "checksum": "95dff9d46a785c762940bcbf37729c40",
     "grade": true,
     "grade_id": "cell-bae184c403a7e447",
     "locked": true,
     "points": 5,
     "schema_version": 3,
     "solution": false,
     "task": false
    }
   },
   "outputs": [],
   "source": []
  },
  {
   "cell_type": "markdown",
   "id": "360945f6",
   "metadata": {
    "deletable": false,
    "editable": false,
    "nbgrader": {
     "cell_type": "markdown",
     "checksum": "2edeec5ba8687415be317ba874eeb9a7",
     "grade": false,
     "grade_id": "cell-1e89c57abd4539e4",
     "locked": true,
     "schema_version": 3,
     "solution": false,
     "task": false
    }
   },
   "source": [
    "\n",
    "------------------------------------\n",
    "------------------------------------\n",
    "e.) Plot the unemployment rates in 2020 \n",
    "- include all countries whose names start with a letter which comes before but **not** including F \n",
    "- use the colour function you have just written. \n",
    "\n",
    "------------------------------------\n"
   ]
  },
  {
   "cell_type": "code",
   "execution_count": null,
   "id": "204f3452",
   "metadata": {
    "deletable": false,
    "nbgrader": {
     "cell_type": "code",
     "checksum": "c9ddd6f694752fdb9487e9b7686e5365",
     "grade": true,
     "grade_id": "cell-7a547c788c000bfb",
     "locked": false,
     "points": 15,
     "schema_version": 3,
     "solution": true,
     "task": false
    }
   },
   "outputs": [],
   "source": [
    "# YOUR CODE HERE\n",
    "raise NotImplementedError()"
   ]
  }
 ],
 "metadata": {
  "kernelspec": {
   "display_name": "Python 3 (ipykernel)",
   "language": "python",
   "name": "python3"
  },
  "language_info": {
   "codemirror_mode": {
    "name": "ipython",
    "version": 3
   },
   "file_extension": ".py",
   "mimetype": "text/x-python",
   "name": "python",
   "nbconvert_exporter": "python",
   "pygments_lexer": "ipython3",
   "version": "3.10.6"
  }
 },
 "nbformat": 4,
 "nbformat_minor": 5
}
