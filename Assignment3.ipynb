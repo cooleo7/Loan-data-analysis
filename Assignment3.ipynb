{
 "cells": [
  {
   "cell_type": "markdown",
   "id": "d00cef7d",
   "metadata": {},
   "source": [
    "Before you turn this problem in, make sure everything runs as expected. First, **restart the kernel** (in the menubar, select Kernel$\\rightarrow$Restart) and then **run all cells** (in the menubar, select Cell$\\rightarrow$Run All).\n",
    "\n",
    "Make sure you fill in any place that says `YOUR CODE HERE` or \"YOUR ANSWER HERE\", as well as your name and collaborators below:"
   ]
  },
  {
   "cell_type": "code",
   "execution_count": null,
   "id": "c2e9c8a2",
   "metadata": {},
   "outputs": [],
   "source": [
    "STUDENT_ID = \"\""
   ]
  },
  {
   "cell_type": "markdown",
   "id": "8fbfc66c",
   "metadata": {},
   "source": [
    "---"
   ]
  },
  {
   "cell_type": "markdown",
   "id": "5367f9ce",
   "metadata": {
    "deletable": false,
    "editable": false,
    "nbgrader": {
     "cell_type": "markdown",
     "checksum": "5e51252ff7b3be970ac91b3c61426442",
     "grade": false,
     "grade_id": "cell-125b2f808476ac23",
     "locked": true,
     "schema_version": 3,
     "solution": false,
     "task": false
    }
   },
   "source": [
    "# MTH765P - Coursework 3\n",
    "This is a template notebook for the third coursework assignment for MTH765P,\n",
    "Closely follow the instructions in this template in order \n",
    "to complete the assessment and to obtain full marks. Please only\n",
    "modify cells where you are instructed to do so. Note that you may add other cells.\n",
    "Failure to comply may result in unexpected errors that can lead to mark deductions. **Please submit only this file, without changing its name to QMPlus.**\n",
    "\n",
    "\n",
    "##### DO NOT FORGET TO REMOVE THE LINE  _raise NotImplementedError()_ after you answer the question.\n",
    "\n",
    "Author: Primoz Skraba\n",
    "\n",
    "\n",
    "As usual, we begin by loading the necessary libraries. You should not \n",
    "import any other libraries."
   ]
  },
  {
   "cell_type": "code",
   "execution_count": null,
   "id": "512d5082",
   "metadata": {
    "deletable": false,
    "editable": false,
    "nbgrader": {
     "cell_type": "code",
     "checksum": "0ea08a79a14e0bced16f1bc30ae6da47",
     "grade": false,
     "grade_id": "cell-80475a4d32a8b7f6",
     "locked": true,
     "schema_version": 3,
     "solution": false,
     "task": false
    }
   },
   "outputs": [],
   "source": [
    "import pandas as pd\n",
    "import numpy as np\n",
    "import matplotlib.pyplot as plt"
   ]
  },
  {
   "cell_type": "markdown",
   "id": "cbf1a479",
   "metadata": {
    "deletable": false,
    "editable": false,
    "nbgrader": {
     "cell_type": "markdown",
     "checksum": "c4d994b97a8982394272f478d0ffa980",
     "grade": false,
     "grade_id": "cell-36e272d2750a54d5",
     "locked": true,
     "schema_version": 3,
     "solution": false,
     "task": false
    }
   },
   "source": [
    "\n",
    "---------\n",
    "---------\n",
    " \n",
    " 1.) Linear models and residuals\n",
    "\n",
    "--------\n",
    "--------\n",
    "\n",
    "Run the next cell to load the first dataset.\n",
    "\n",
    "--------\n",
    "\n",
    "\n"
   ]
  },
  {
   "cell_type": "code",
   "execution_count": null,
   "id": "ccbe9be8",
   "metadata": {
    "deletable": false,
    "editable": false,
    "nbgrader": {
     "cell_type": "code",
     "checksum": "862c2800a29edfa9663234960a885fce",
     "grade": false,
     "grade_id": "cell-e35ad477aa18ce29",
     "locked": true,
     "schema_version": 3,
     "solution": false,
     "task": false
    }
   },
   "outputs": [],
   "source": [
    "X = pd.read_csv('1.csv',sep=' ')\n",
    "X.head()"
   ]
  },
  {
   "cell_type": "markdown",
   "id": "f23f8926",
   "metadata": {
    "deletable": false,
    "editable": false,
    "nbgrader": {
     "cell_type": "markdown",
     "checksum": "b1d3370aeaff16da08e2057d8372cc0c",
     "grade": false,
     "grade_id": "cell-a02f9d790a1e06e5",
     "locked": true,
     "schema_version": 3,
     "solution": false,
     "task": false
    }
   },
   "source": [
    "----\n",
    "\n",
    "a.) Use _numpy.polyfit()_ to fit a linear model to the data, storing the parameters into variables called _m_ and _b_ respectively for the slope and y-intercept. \n",
    "\n",
    "----"
   ]
  },
  {
   "cell_type": "code",
   "execution_count": null,
   "id": "e8e87a79",
   "metadata": {
    "deletable": false,
    "nbgrader": {
     "cell_type": "code",
     "checksum": "440108b12843f99eb90a27c52acdacad",
     "grade": false,
     "grade_id": "cell-5d0385e8424d056d",
     "locked": false,
     "schema_version": 3,
     "solution": true,
     "task": false
    }
   },
   "outputs": [],
   "source": [
    "# YOUR CODE HERE\n",
    "raise NotImplementedError()"
   ]
  },
  {
   "cell_type": "code",
   "execution_count": null,
   "id": "44f5ae9a",
   "metadata": {
    "deletable": false,
    "editable": false,
    "nbgrader": {
     "cell_type": "code",
     "checksum": "eb8bda763904854f52b23ba99272e4ea",
     "grade": true,
     "grade_id": "cell-a510ebfd6eb31117",
     "locked": true,
     "points": 2,
     "schema_version": 3,
     "solution": false,
     "task": false
    }
   },
   "outputs": [],
   "source": []
  },
  {
   "cell_type": "markdown",
   "id": "e4a7baf8",
   "metadata": {
    "deletable": false,
    "editable": false,
    "nbgrader": {
     "cell_type": "markdown",
     "checksum": "dff2fc4a8cdb54e59ef4236dc1a0844b",
     "grade": false,
     "grade_id": "cell-4637557f72240df6",
     "locked": true,
     "schema_version": 3,
     "solution": false,
     "task": false
    }
   },
   "source": [
    "----\n",
    "\n",
    "b.) Compute the residual of the data with respect to the model and store them in a variable called _res_\n",
    "\n",
    "----"
   ]
  },
  {
   "cell_type": "code",
   "execution_count": null,
   "id": "0b2ade41",
   "metadata": {
    "deletable": false,
    "nbgrader": {
     "cell_type": "code",
     "checksum": "bb493beea81b90457c0161b8290a960d",
     "grade": false,
     "grade_id": "cell-bdd25af32a94f5d4",
     "locked": false,
     "schema_version": 3,
     "solution": true,
     "task": false
    }
   },
   "outputs": [],
   "source": [
    "# YOUR CODE HERE\n",
    "raise NotImplementedError()"
   ]
  },
  {
   "cell_type": "code",
   "execution_count": null,
   "id": "179aee4c",
   "metadata": {
    "deletable": false,
    "editable": false,
    "nbgrader": {
     "cell_type": "code",
     "checksum": "f8a47d9e0ae09e06428186ce519c2033",
     "grade": true,
     "grade_id": "cell-49f5c19f12e0e32d",
     "locked": true,
     "points": 5,
     "schema_version": 3,
     "solution": false,
     "task": false
    }
   },
   "outputs": [],
   "source": []
  },
  {
   "cell_type": "markdown",
   "id": "44596de5",
   "metadata": {
    "deletable": false,
    "editable": false,
    "nbgrader": {
     "cell_type": "markdown",
     "checksum": "267b12815fbf4918b36cfd2d25d76f6f",
     "grade": false,
     "grade_id": "cell-f1bed8e2f93abf15",
     "locked": true,
     "schema_version": 3,
     "solution": false,
     "task": false
    }
   },
   "source": [
    "----\n",
    "\n",
    "c.) Plot an unnormalised histogram of the residuals with 40 bins\n",
    "\n",
    "----"
   ]
  },
  {
   "cell_type": "code",
   "execution_count": null,
   "id": "141c1a8c",
   "metadata": {
    "deletable": false,
    "nbgrader": {
     "cell_type": "code",
     "checksum": "4b4ef5427388147dff20465b1fe298a2",
     "grade": true,
     "grade_id": "cell-87c23e242654c4c9",
     "locked": false,
     "points": 5,
     "schema_version": 3,
     "solution": true,
     "task": false
    }
   },
   "outputs": [],
   "source": [
    "# YOUR CODE HERE\n",
    "raise NotImplementedError()"
   ]
  },
  {
   "cell_type": "markdown",
   "id": "94496680",
   "metadata": {
    "deletable": false,
    "editable": false,
    "nbgrader": {
     "cell_type": "markdown",
     "checksum": "5a5a6f4d01ad5b1610b6d5eff9434b86",
     "grade": false,
     "grade_id": "cell-c04efdd669ff991e",
     "locked": true,
     "schema_version": 3,
     "solution": false,
     "task": false
    }
   },
   "source": [
    "----\n",
    "\n",
    "d.) Is the linear model a good fit? (one or two sentences)\n",
    "\n",
    "----"
   ]
  },
  {
   "cell_type": "markdown",
   "id": "e6d9cbd7",
   "metadata": {
    "deletable": false,
    "nbgrader": {
     "cell_type": "markdown",
     "checksum": "c9ff2ea92e7b83f28707ebc457ca2916",
     "grade": true,
     "grade_id": "cell-042efc41467b5bb0",
     "locked": false,
     "points": 3,
     "schema_version": 3,
     "solution": true,
     "task": false
    }
   },
   "source": [
    "YOUR ANSWER HERE"
   ]
  },
  {
   "cell_type": "markdown",
   "id": "894ffeb0",
   "metadata": {
    "deletable": false,
    "editable": false,
    "nbgrader": {
     "cell_type": "markdown",
     "checksum": "fe7241662af6208f4e2674ee6db40f5e",
     "grade": false,
     "grade_id": "cell-34745a4e5d2edefd",
     "locked": true,
     "schema_version": 3,
     "solution": false,
     "task": false
    }
   },
   "source": [
    "----\n",
    "\n",
    "e.) Complete the function below to compute hinges of the input x, which should be set at the 30th and 70th quantile.\n",
    "\n",
    "----"
   ]
  },
  {
   "cell_type": "code",
   "execution_count": null,
   "id": "eccc8785",
   "metadata": {
    "deletable": false,
    "nbgrader": {
     "cell_type": "code",
     "checksum": "77cb03e2a804e66344d2cc0b669e0604",
     "grade": false,
     "grade_id": "cell-9a6a0df2fe278068",
     "locked": false,
     "schema_version": 3,
     "solution": true,
     "task": false
    }
   },
   "outputs": [],
   "source": [
    "def hinges(x):\n",
    "# YOUR CODE HERE\n",
    "raise NotImplementedError()\n",
    "    return lower,upper"
   ]
  },
  {
   "cell_type": "code",
   "execution_count": null,
   "id": "ff21674b",
   "metadata": {
    "deletable": false,
    "editable": false,
    "nbgrader": {
     "cell_type": "code",
     "checksum": "6919d3cdc2e506c1cc5f7ef1a5560d10",
     "grade": true,
     "grade_id": "cell-b0cfceae9fee3684",
     "locked": true,
     "points": 5,
     "schema_version": 3,
     "solution": false,
     "task": false
    }
   },
   "outputs": [],
   "source": []
  },
  {
   "cell_type": "markdown",
   "id": "892890b2",
   "metadata": {
    "deletable": false,
    "editable": false,
    "nbgrader": {
     "cell_type": "markdown",
     "checksum": "cb42c1cd969e67f2c5cfa19f10e2863a",
     "grade": false,
     "grade_id": "cell-45a212ec3ffa89ed",
     "locked": true,
     "schema_version": 3,
     "solution": false,
     "task": false
    }
   },
   "source": [
    "----\n",
    "\n",
    "f.) Use the above function to compute the inner fences of the residuals. Store the results in the variables _lower_fence_ and _upper_fence_ respectively.\n",
    "\n",
    "----"
   ]
  },
  {
   "cell_type": "code",
   "execution_count": null,
   "id": "6b7f3103",
   "metadata": {
    "deletable": false,
    "nbgrader": {
     "cell_type": "code",
     "checksum": "cc5476e1e5653435c8908eed1cc4fc4e",
     "grade": false,
     "grade_id": "cell-0c9813f56d0b5880",
     "locked": false,
     "schema_version": 3,
     "solution": true,
     "task": false
    }
   },
   "outputs": [],
   "source": [
    "# YOUR CODE HERE\n",
    "raise NotImplementedError()"
   ]
  },
  {
   "cell_type": "code",
   "execution_count": null,
   "id": "dea07d33",
   "metadata": {
    "deletable": false,
    "editable": false,
    "nbgrader": {
     "cell_type": "code",
     "checksum": "44f2e97d093034598009c082a13c2f2d",
     "grade": true,
     "grade_id": "cell-02e6a1b75db70ab7",
     "locked": true,
     "points": 2,
     "schema_version": 3,
     "solution": false,
     "task": false
    }
   },
   "outputs": [],
   "source": []
  },
  {
   "cell_type": "markdown",
   "id": "8ada1415",
   "metadata": {
    "deletable": false,
    "editable": false,
    "nbgrader": {
     "cell_type": "markdown",
     "checksum": "0050c1698ae3b27b9052d3e129c54367",
     "grade": false,
     "grade_id": "cell-ab135b5db7d34a72",
     "locked": true,
     "schema_version": 3,
     "solution": false,
     "task": false
    }
   },
   "source": [
    "----\n",
    "\n",
    "g.) Create a new Dataframe called _Y_ with all the values corresponding to residuals which are beyond the inner fences removed.\n",
    "\n",
    "----"
   ]
  },
  {
   "cell_type": "code",
   "execution_count": null,
   "id": "3adf9d84",
   "metadata": {
    "deletable": false,
    "nbgrader": {
     "cell_type": "code",
     "checksum": "5d32ce4bc254f7b7908a047006dd7bb2",
     "grade": false,
     "grade_id": "cell-9df6b079e5d05ed9",
     "locked": false,
     "schema_version": 3,
     "solution": true,
     "task": false
    }
   },
   "outputs": [],
   "source": [
    "# YOUR CODE HERE\n",
    "raise NotImplementedError()"
   ]
  },
  {
   "cell_type": "code",
   "execution_count": null,
   "id": "6c249563",
   "metadata": {
    "deletable": false,
    "editable": false,
    "nbgrader": {
     "cell_type": "code",
     "checksum": "c4dc53c8e41cd6dae567a65032f69de7",
     "grade": false,
     "grade_id": "cell-5587eaeba70f827e",
     "locked": true,
     "schema_version": 3,
     "solution": false,
     "task": false
    }
   },
   "outputs": [],
   "source": [
    "Y"
   ]
  },
  {
   "cell_type": "code",
   "execution_count": null,
   "id": "3be71450",
   "metadata": {
    "deletable": false,
    "editable": false,
    "nbgrader": {
     "cell_type": "code",
     "checksum": "8b48df349f3630b54a93048b7389daec",
     "grade": true,
     "grade_id": "cell-915dde633ddedd13",
     "locked": true,
     "points": 5,
     "schema_version": 3,
     "solution": false,
     "task": false
    }
   },
   "outputs": [],
   "source": []
  },
  {
   "cell_type": "markdown",
   "id": "27b9774b",
   "metadata": {
    "deletable": false,
    "editable": false,
    "nbgrader": {
     "cell_type": "markdown",
     "checksum": "eb2a2aa70021621bb1872aa4ade05324",
     "grade": false,
     "grade_id": "cell-6a49739aee69c15b",
     "locked": true,
     "schema_version": 3,
     "solution": false,
     "task": false
    }
   },
   "source": [
    "----\n",
    "\n",
    "h.) Fit a new linear model and plot the  outliers as red points, the remainder of the points (non-outliers) as blue stars (\\*), the original model as a black line and the new model shown as a green line. Store the new model parameters in the variables _m\\_new_ and _b\\_new_.\n",
    "\n",
    "----"
   ]
  },
  {
   "cell_type": "code",
   "execution_count": null,
   "id": "319bb134",
   "metadata": {
    "deletable": false,
    "nbgrader": {
     "cell_type": "code",
     "checksum": "04511de03a1890ec704e45f06cb250a5",
     "grade": true,
     "grade_id": "cell-5f22fe29f2335091",
     "locked": false,
     "points": 5,
     "schema_version": 3,
     "solution": true,
     "task": false
    }
   },
   "outputs": [],
   "source": [
    "# YOUR CODE HERE\n",
    "raise NotImplementedError()"
   ]
  },
  {
   "cell_type": "markdown",
   "id": "8f14734b",
   "metadata": {
    "deletable": false,
    "editable": false,
    "nbgrader": {
     "cell_type": "markdown",
     "checksum": "4227b3ad08f298bc425470b065dc5b52",
     "grade": false,
     "grade_id": "cell-0ac06d00a2d4e370",
     "locked": true,
     "schema_version": 3,
     "solution": false,
     "task": false
    }
   },
   "source": [
    "----\n",
    "\n",
    "j.) Is what you did above different from computing (and filtering) the outliers on the original data? If so, describe how, otherwise explain why they are the same. (a few sentences)\n",
    "\n",
    "----"
   ]
  },
  {
   "cell_type": "markdown",
   "id": "63155e5d",
   "metadata": {
    "deletable": false,
    "nbgrader": {
     "cell_type": "markdown",
     "checksum": "21b17392bec6f8648d67913424d95777",
     "grade": true,
     "grade_id": "cell-b16cf6f03074fa73",
     "locked": false,
     "points": 5,
     "schema_version": 3,
     "solution": true,
     "task": false
    }
   },
   "source": [
    "YOUR ANSWER HERE"
   ]
  },
  {
   "cell_type": "markdown",
   "id": "a828a5b7",
   "metadata": {
    "deletable": false,
    "editable": false,
    "nbgrader": {
     "cell_type": "markdown",
     "checksum": "a58a97b7ff9433dd6beb9df82a40d45c",
     "grade": false,
     "grade_id": "cell-7c41d349c1de066d",
     "locked": true,
     "schema_version": 3,
     "solution": false,
     "task": false
    }
   },
   "source": [
    "### 2.)\n",
    "\n",
    "The next dataset is on the sales of video games. \n",
    "\n",
    "---------\n",
    "---------\n",
    "\n",
    "a.) Use pandas to read in the file **games.csv** into a dataframe called _games_\n",
    "\n"
   ]
  },
  {
   "cell_type": "code",
   "execution_count": null,
   "id": "9497311d",
   "metadata": {
    "deletable": false,
    "editable": false,
    "nbgrader": {
     "cell_type": "code",
     "checksum": "96ba6113c20ff432feb524c5ab59a1fc",
     "grade": false,
     "grade_id": "cell-ef8aa8eb7eb5367b",
     "locked": true,
     "schema_version": 3,
     "solution": false,
     "task": false
    }
   },
   "outputs": [],
   "source": [
    "games = pd.read_csv('2.csv')\n",
    "games.head()"
   ]
  },
  {
   "cell_type": "markdown",
   "id": "452dc588",
   "metadata": {
    "deletable": false,
    "editable": false,
    "nbgrader": {
     "cell_type": "markdown",
     "checksum": "398221e9e8c3a1f3c7c2f0af07eab95b",
     "grade": false,
     "grade_id": "cell-83c932189e7038a7",
     "locked": true,
     "schema_version": 3,
     "solution": false,
     "task": false
    }
   },
   "source": [
    "\n",
    " ----\n",
    " \n",
    "a.) Find answers to the following questions about the dataframe.\n",
    "- How many genres are there? Store the answer in a variable called _num_genres_. \n",
    "- How many publishers are there? Store the answer in a variable _num_publishers_.\n",
    "- How many platforms are there? Store the answer in a variable _num_platforms_.\n",
    "\n",
    "----\n"
   ]
  },
  {
   "cell_type": "code",
   "execution_count": null,
   "id": "e1d49973",
   "metadata": {
    "deletable": false,
    "nbgrader": {
     "cell_type": "code",
     "checksum": "a3d5c64cfd1f2efeae1d050adbc9bd83",
     "grade": false,
     "grade_id": "cell-a895136977a65809",
     "locked": false,
     "schema_version": 3,
     "solution": true,
     "task": false
    }
   },
   "outputs": [],
   "source": [
    "# YOUR CODE HERE\n",
    "raise NotImplementedError()"
   ]
  },
  {
   "cell_type": "code",
   "execution_count": null,
   "id": "c19288af",
   "metadata": {
    "deletable": false,
    "editable": false,
    "nbgrader": {
     "cell_type": "code",
     "checksum": "6fa9030818d36a419032cdb29c0a120f",
     "grade": true,
     "grade_id": "cell-9bd4d3c9745b9b6e",
     "locked": true,
     "points": 3,
     "schema_version": 3,
     "solution": false,
     "task": false
    }
   },
   "outputs": [],
   "source": []
  },
  {
   "cell_type": "markdown",
   "id": "bdc7785f",
   "metadata": {
    "deletable": false,
    "editable": false,
    "nbgrader": {
     "cell_type": "markdown",
     "checksum": "c107c079e55bf256ced593c8cece6350",
     "grade": false,
     "grade_id": "cell-92502e03ec31ec1a",
     "locked": true,
     "schema_version": 3,
     "solution": false,
     "task": false
    }
   },
   "source": [
    "----\n",
    "\n",
    "b.) Create a box-and-whisker plot of Global Sales by genre.\n",
    "\n",
    "----"
   ]
  },
  {
   "cell_type": "code",
   "execution_count": null,
   "id": "e21b3947",
   "metadata": {
    "deletable": false,
    "nbgrader": {
     "cell_type": "code",
     "checksum": "fa005e2d90f6ec72ad9490b919bd38cc",
     "grade": true,
     "grade_id": "cell-ad05bdfe1f74fd5a",
     "locked": false,
     "points": 4,
     "schema_version": 3,
     "solution": true,
     "task": false
    }
   },
   "outputs": [],
   "source": [
    "# YOUR CODE HERE\n",
    "raise NotImplementedError()"
   ]
  },
  {
   "cell_type": "markdown",
   "id": "ed539631",
   "metadata": {
    "deletable": false,
    "editable": false,
    "nbgrader": {
     "cell_type": "markdown",
     "checksum": "9372bd187655b364dde2bded134cae07",
     "grade": false,
     "grade_id": "cell-6753222df59f8cc9",
     "locked": true,
     "schema_version": 3,
     "solution": false,
     "task": false
    }
   },
   "source": [
    "----\n",
    "\n",
    "c.) Find the upper outer fence thresholds for each genre (assuming hinges at the 25th and 75th percentile). Store them in a dictionary {genre:upper outer fence} called ufence.\n",
    "\n",
    "---"
   ]
  },
  {
   "cell_type": "code",
   "execution_count": null,
   "id": "675ad765",
   "metadata": {
    "deletable": false,
    "nbgrader": {
     "cell_type": "code",
     "checksum": "e122bd72e575b38a74916eaa733b6566",
     "grade": false,
     "grade_id": "cell-efe4710776f50850",
     "locked": false,
     "schema_version": 3,
     "solution": true,
     "task": false
    }
   },
   "outputs": [],
   "source": [
    "# YOUR CODE HERE\n",
    "raise NotImplementedError()"
   ]
  },
  {
   "cell_type": "code",
   "execution_count": null,
   "id": "6291c7a4",
   "metadata": {
    "deletable": false,
    "editable": false,
    "nbgrader": {
     "cell_type": "code",
     "checksum": "a9412a82a02e5dc3363bf7391f29abf8",
     "grade": true,
     "grade_id": "cell-b19900eb856a4a17",
     "locked": true,
     "points": 12,
     "schema_version": 3,
     "solution": false,
     "task": false
    }
   },
   "outputs": [],
   "source": []
  },
  {
   "cell_type": "markdown",
   "id": "6ab2f434",
   "metadata": {
    "deletable": false,
    "editable": false,
    "nbgrader": {
     "cell_type": "markdown",
     "checksum": "e5a63c7b4ef8cfbf1879323ccc5eddb5",
     "grade": false,
     "grade_id": "cell-4df6d7939b1cd6de",
     "locked": true,
     "schema_version": 3,
     "solution": false,
     "task": false
    }
   },
   "source": [
    "----\n",
    "\n",
    "d.) Plot the unnormalised histogram with 20 bins for all sports games whose Global sales which are beyond the outer fence.\n",
    "\n",
    "\n",
    "----\n"
   ]
  },
  {
   "cell_type": "code",
   "execution_count": null,
   "id": "7eee0275",
   "metadata": {
    "deletable": false,
    "nbgrader": {
     "cell_type": "code",
     "checksum": "f3b3ef5917b7d9bb693933a834e776a6",
     "grade": true,
     "grade_id": "cell-0ec4c9ec902d4aba",
     "locked": false,
     "points": 5,
     "schema_version": 3,
     "solution": true,
     "task": false
    }
   },
   "outputs": [],
   "source": [
    "# YOUR CODE HERE\n",
    "raise NotImplementedError()"
   ]
  },
  {
   "cell_type": "markdown",
   "id": "48b238e3",
   "metadata": {
    "deletable": false,
    "editable": false,
    "nbgrader": {
     "cell_type": "markdown",
     "checksum": "0c9da3fc3adfa5a89b006dd3f44e1b06",
     "grade": false,
     "grade_id": "cell-db7439f2e21a666d",
     "locked": true,
     "schema_version": 3,
     "solution": false,
     "task": false
    }
   },
   "source": [
    "---- \n",
    "e.) If these are successful games - what can you say about the maximum versus the typical successful game? What are the problems with using the average (overall or just the succesful games).\n",
    "\n",
    "---"
   ]
  },
  {
   "cell_type": "markdown",
   "id": "52a8c0fb",
   "metadata": {
    "deletable": false,
    "nbgrader": {
     "cell_type": "markdown",
     "checksum": "56bab1e0c38fcdff1867915c5a0513cd",
     "grade": true,
     "grade_id": "cell-73becb7b6ff394e2",
     "locked": false,
     "points": 4,
     "schema_version": 3,
     "solution": true,
     "task": false
    }
   },
   "source": [
    "YOUR ANSWER HERE"
   ]
  },
  {
   "cell_type": "markdown",
   "id": "b0d417e0",
   "metadata": {
    "deletable": false,
    "editable": false,
    "nbgrader": {
     "cell_type": "markdown",
     "checksum": "1bd8ad4b0b2825de7f97642aab72a264",
     "grade": false,
     "grade_id": "cell-e4f6208a960302e8",
     "locked": true,
     "schema_version": 3,
     "solution": false,
     "task": false
    }
   },
   "source": [
    "----\n",
    "\n",
    "f.) Create a plot of Global Sales with a line for the following platforms per year.\n",
    "- 2600, NES, SNES, GEN, N64, GC, WII, PS, PS2, PS3, PS4, X360, XB, XOne\n",
    "\n",
    "----\n"
   ]
  },
  {
   "cell_type": "code",
   "execution_count": null,
   "id": "aa5921ed",
   "metadata": {
    "deletable": false,
    "nbgrader": {
     "cell_type": "code",
     "checksum": "4ad33b0148c65d6ae468882874b8af43",
     "grade": true,
     "grade_id": "cell-d2695e9a2a0dee9d",
     "locked": false,
     "points": 10,
     "schema_version": 3,
     "solution": true,
     "task": false
    }
   },
   "outputs": [],
   "source": [
    "# YOUR CODE HERE\n",
    "raise NotImplementedError()"
   ]
  }
 ],
 "metadata": {
  "kernelspec": {
   "display_name": "Python 3 (ipykernel)",
   "language": "python",
   "name": "python3"
  },
  "language_info": {
   "codemirror_mode": {
    "name": "ipython",
    "version": 3
   },
   "file_extension": ".py",
   "mimetype": "text/x-python",
   "name": "python",
   "nbconvert_exporter": "python",
   "pygments_lexer": "ipython3",
   "version": "3.8.12"
  }
 },
 "nbformat": 4,
 "nbformat_minor": 5
}
